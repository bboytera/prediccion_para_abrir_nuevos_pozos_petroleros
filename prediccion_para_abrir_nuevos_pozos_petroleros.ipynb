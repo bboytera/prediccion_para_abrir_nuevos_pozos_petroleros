{
 "cells": [
  {
   "cell_type": "markdown",
   "metadata": {},
   "source": [
    "## Introducción"
   ]
  },
  {
   "cell_type": "markdown",
   "metadata": {},
   "source": [
    "Encontrar los **mejores lugares para abrir 200 pozos nuevos** de petróleo en la compañía de extacción de petróleo OilyGiant\n",
    "- Vamos a crear un modelo para predecir el volumen de reservas en pozos nuevos.\n",
    "- Elegir los pozos petrolíferos que tienen los valores estimados más altos.\n",
    "- Elegir la región con el **beneficio total** más alto para los pozos petrolíferos seleccionados.\n",
    "\n",
    "- Crear un modelo que ayude a elegir la región con **el mayor margen de beneficio**. Analizar los beneficios y riesgos potenciales utilizando la técnica bootstrapping."
   ]
  },
  {
   "cell_type": "markdown",
   "metadata": {},
   "source": [
    "## Condiciones:"
   ]
  },
  {
   "cell_type": "markdown",
   "metadata": {},
   "source": [
    "- Al explorar la región, se lleva a cabo un estudio de 500 puntos con la selección de los mejores 200 puntos para el cálculo del beneficio.\n",
    "- El presupuesto para el desarrollo de 200 pozos petroleros es de 100 millones de dólares.\n",
    "- Un barril de materias primas genera 4.5 USD de ingresos. El ingreso de una unidad de producto es de 4500 dólares (el volumen de reservas está expresado en miles de barriles).\n",
    "- Después de la evaluación de riesgo, mantendremos solo las regiones con riesgo de pérdidas inferior al 2.5%. De las que se ajustan a los criterios, se debe seleccionar la región con el beneficio promedio más alto.\n",
    "- Los datos son sintéticos: los detalles del contrato y las características del pozo no se publican."
   ]
  },
  {
   "cell_type": "markdown",
   "metadata": {},
   "source": [
    "## Descripción de los datos"
   ]
  },
  {
   "cell_type": "markdown",
   "metadata": {},
   "source": [
    "Los datos de exploración geológica de las tres regiones se almacenan en estos 3 archivos:\n",
    "\n",
    "- 'geo_data_0.csv'. \n",
    "- 'geo_data_1.csv'. \n",
    "- 'geo_data_2.csv'. \n",
    "\n",
    "\n",
    "  - `id`  — identificador único de pozo de petróleo\n",
    "  - `f0, f1, f2` — tres características de los puntos (su significado específico no es importante, pero las características en sí son significativas)\n",
    "  -`product`— volumen de reservas en el pozo de petróleo (miles de barriles)."
   ]
  },
  {
   "cell_type": "markdown",
   "metadata": {},
   "source": [
    "#  IMPORTAMOS LIBRERIAS Y CARGAMOS EL DATASET"
   ]
  },
  {
   "cell_type": "code",
   "execution_count": 1,
   "metadata": {},
   "outputs": [],
   "source": [
    "import pandas as pd\n",
    "import numpy as np\n",
    "import matplotlib.pyplot as plt\n",
    "from sklearn.model_selection import train_test_split\n",
    "from sklearn.linear_model import LinearRegression\n",
    "from sklearn.metrics import mean_squared_error,r2_score\n",
    "from sklearn.utils import resample\n",
    "from scipy import stats as st\n",
    "from numpy.random import RandomState"
   ]
  },
  {
   "cell_type": "code",
   "execution_count": 2,
   "metadata": {},
   "outputs": [],
   "source": [
    "data_0 = pd.read_csv('https://practicum-content.s3.us-west-1.amazonaws.com/datasets/geo_data_0.csv')\n",
    "data_1 = pd.read_csv('https://practicum-content.s3.us-west-1.amazonaws.com/datasets/geo_data_1.csv')\n",
    "data_2 = pd.read_csv('https://practicum-content.s3.us-west-1.amazonaws.com/datasets/geo_data_2.csv')"
   ]
  },
  {
   "cell_type": "markdown",
   "metadata": {},
   "source": [
    "# EXPLORAMOS  EL DATASET"
   ]
  },
  {
   "cell_type": "markdown",
   "metadata": {},
   "source": [
    "## Region 1"
   ]
  },
  {
   "cell_type": "code",
   "execution_count": 3,
   "metadata": {},
   "outputs": [
    {
     "data": {
      "text/html": [
       "<div>\n",
       "<style scoped>\n",
       "    .dataframe tbody tr th:only-of-type {\n",
       "        vertical-align: middle;\n",
       "    }\n",
       "\n",
       "    .dataframe tbody tr th {\n",
       "        vertical-align: top;\n",
       "    }\n",
       "\n",
       "    .dataframe thead th {\n",
       "        text-align: right;\n",
       "    }\n",
       "</style>\n",
       "<table border=\"1\" class=\"dataframe\">\n",
       "  <thead>\n",
       "    <tr style=\"text-align: right;\">\n",
       "      <th></th>\n",
       "      <th>id</th>\n",
       "      <th>f0</th>\n",
       "      <th>f1</th>\n",
       "      <th>f2</th>\n",
       "      <th>product</th>\n",
       "    </tr>\n",
       "  </thead>\n",
       "  <tbody>\n",
       "    <tr>\n",
       "      <th>0</th>\n",
       "      <td>txEyH</td>\n",
       "      <td>0.705745</td>\n",
       "      <td>-0.497823</td>\n",
       "      <td>1.221170</td>\n",
       "      <td>105.280062</td>\n",
       "    </tr>\n",
       "    <tr>\n",
       "      <th>1</th>\n",
       "      <td>2acmU</td>\n",
       "      <td>1.334711</td>\n",
       "      <td>-0.340164</td>\n",
       "      <td>4.365080</td>\n",
       "      <td>73.037750</td>\n",
       "    </tr>\n",
       "    <tr>\n",
       "      <th>2</th>\n",
       "      <td>409Wp</td>\n",
       "      <td>1.022732</td>\n",
       "      <td>0.151990</td>\n",
       "      <td>1.419926</td>\n",
       "      <td>85.265647</td>\n",
       "    </tr>\n",
       "    <tr>\n",
       "      <th>3</th>\n",
       "      <td>iJLyR</td>\n",
       "      <td>-0.032172</td>\n",
       "      <td>0.139033</td>\n",
       "      <td>2.978566</td>\n",
       "      <td>168.620776</td>\n",
       "    </tr>\n",
       "    <tr>\n",
       "      <th>4</th>\n",
       "      <td>Xdl7t</td>\n",
       "      <td>1.988431</td>\n",
       "      <td>0.155413</td>\n",
       "      <td>4.751769</td>\n",
       "      <td>154.036647</td>\n",
       "    </tr>\n",
       "  </tbody>\n",
       "</table>\n",
       "</div>"
      ],
      "text/plain": [
       "      id        f0        f1        f2     product\n",
       "0  txEyH  0.705745 -0.497823  1.221170  105.280062\n",
       "1  2acmU  1.334711 -0.340164  4.365080   73.037750\n",
       "2  409Wp  1.022732  0.151990  1.419926   85.265647\n",
       "3  iJLyR -0.032172  0.139033  2.978566  168.620776\n",
       "4  Xdl7t  1.988431  0.155413  4.751769  154.036647"
      ]
     },
     "execution_count": 3,
     "metadata": {},
     "output_type": "execute_result"
    }
   ],
   "source": [
    "data_0.head()"
   ]
  },
  {
   "cell_type": "code",
   "execution_count": 4,
   "metadata": {},
   "outputs": [
    {
     "name": "stdout",
     "output_type": "stream",
     "text": [
      "<class 'pandas.core.frame.DataFrame'>\n",
      "RangeIndex: 100000 entries, 0 to 99999\n",
      "Data columns (total 5 columns):\n",
      " #   Column   Non-Null Count   Dtype  \n",
      "---  ------   --------------   -----  \n",
      " 0   id       100000 non-null  object \n",
      " 1   f0       100000 non-null  float64\n",
      " 2   f1       100000 non-null  float64\n",
      " 3   f2       100000 non-null  float64\n",
      " 4   product  100000 non-null  float64\n",
      "dtypes: float64(4), object(1)\n",
      "memory usage: 3.8+ MB\n"
     ]
    }
   ],
   "source": [
    "data_0.info()"
   ]
  },
  {
   "cell_type": "code",
   "execution_count": 5,
   "metadata": {},
   "outputs": [
    {
     "data": {
      "text/plain": [
       "0"
      ]
     },
     "execution_count": 5,
     "metadata": {},
     "output_type": "execute_result"
    }
   ],
   "source": [
    "data_0.duplicated().sum()"
   ]
  },
  {
   "cell_type": "markdown",
   "metadata": {},
   "source": [
    "## Vamos a ver como se distribuyen los datos de la variable a predecir"
   ]
  },
  {
   "cell_type": "code",
   "execution_count": 6,
   "metadata": {},
   "outputs": [
    {
     "data": {
      "text/plain": [
       "<AxesSubplot:>"
      ]
     },
     "execution_count": 6,
     "metadata": {},
     "output_type": "execute_result"
    },
    {
     "data": {
      "image/png": "[encoded data removed]",
      "text/plain": [
       "<Figure size 640x480 with 1 Axes>"
      ]
     },
     "metadata": {},
     "output_type": "display_data"
    }
   ],
   "source": [
    "data_0['product'].hist(bins=40)"
   ]
  },
  {
   "cell_type": "code",
   "execution_count": 7,
   "metadata": {},
   "outputs": [
    {
     "data": {
      "text/plain": [
       "185.3643474222929"
      ]
     },
     "execution_count": 7,
     "metadata": {},
     "output_type": "execute_result"
    }
   ],
   "source": [
    "data_0['product'].max()"
   ]
  },
  {
   "cell_type": "code",
   "execution_count": 8,
   "metadata": {},
   "outputs": [
    {
     "data": {
      "text/plain": [
       "0.0"
      ]
     },
     "execution_count": 8,
     "metadata": {},
     "output_type": "execute_result"
    }
   ],
   "source": [
    "data_0['product'].min()"
   ]
  },
  {
   "cell_type": "code",
   "execution_count": 9,
   "metadata": {},
   "outputs": [
    {
     "data": {
      "text/html": [
       "<div>\n",
       "<style scoped>\n",
       "    .dataframe tbody tr th:only-of-type {\n",
       "        vertical-align: middle;\n",
       "    }\n",
       "\n",
       "    .dataframe tbody tr th {\n",
       "        vertical-align: top;\n",
       "    }\n",
       "\n",
       "    .dataframe thead th {\n",
       "        text-align: right;\n",
       "    }\n",
       "</style>\n",
       "<table border=\"1\" class=\"dataframe\">\n",
       "  <thead>\n",
       "    <tr style=\"text-align: right;\">\n",
       "      <th></th>\n",
       "      <th>id</th>\n",
       "      <th>f0</th>\n",
       "      <th>f1</th>\n",
       "      <th>f2</th>\n",
       "      <th>product</th>\n",
       "    </tr>\n",
       "  </thead>\n",
       "  <tbody>\n",
       "    <tr>\n",
       "      <th>307</th>\n",
       "      <td>Y4DnV</td>\n",
       "      <td>0.502926</td>\n",
       "      <td>0.593209</td>\n",
       "      <td>-2.399415</td>\n",
       "      <td>0.078123</td>\n",
       "    </tr>\n",
       "    <tr>\n",
       "      <th>2229</th>\n",
       "      <td>NDc1S</td>\n",
       "      <td>0.763198</td>\n",
       "      <td>0.658588</td>\n",
       "      <td>-0.558619</td>\n",
       "      <td>0.038252</td>\n",
       "    </tr>\n",
       "    <tr>\n",
       "      <th>3784</th>\n",
       "      <td>mXdEt</td>\n",
       "      <td>0.086728</td>\n",
       "      <td>1.128861</td>\n",
       "      <td>-0.525895</td>\n",
       "      <td>0.050657</td>\n",
       "    </tr>\n",
       "    <tr>\n",
       "      <th>3789</th>\n",
       "      <td>dQc8v</td>\n",
       "      <td>0.710330</td>\n",
       "      <td>0.423648</td>\n",
       "      <td>0.424131</td>\n",
       "      <td>0.621153</td>\n",
       "    </tr>\n",
       "    <tr>\n",
       "      <th>4109</th>\n",
       "      <td>3RhgB</td>\n",
       "      <td>-0.714156</td>\n",
       "      <td>0.829910</td>\n",
       "      <td>3.795402</td>\n",
       "      <td>0.888251</td>\n",
       "    </tr>\n",
       "    <tr>\n",
       "      <th>...</th>\n",
       "      <td>...</td>\n",
       "      <td>...</td>\n",
       "      <td>...</td>\n",
       "      <td>...</td>\n",
       "      <td>...</td>\n",
       "    </tr>\n",
       "    <tr>\n",
       "      <th>97721</th>\n",
       "      <td>oZ3UJ</td>\n",
       "      <td>0.701532</td>\n",
       "      <td>0.808797</td>\n",
       "      <td>-2.221334</td>\n",
       "      <td>0.004022</td>\n",
       "    </tr>\n",
       "    <tr>\n",
       "      <th>97827</th>\n",
       "      <td>CVxJ4</td>\n",
       "      <td>-0.748880</td>\n",
       "      <td>0.584331</td>\n",
       "      <td>1.562582</td>\n",
       "      <td>0.722188</td>\n",
       "    </tr>\n",
       "    <tr>\n",
       "      <th>98058</th>\n",
       "      <td>U7LCe</td>\n",
       "      <td>-0.504360</td>\n",
       "      <td>0.754723</td>\n",
       "      <td>2.404490</td>\n",
       "      <td>0.250788</td>\n",
       "    </tr>\n",
       "    <tr>\n",
       "      <th>99489</th>\n",
       "      <td>IO55C</td>\n",
       "      <td>-0.531047</td>\n",
       "      <td>1.026292</td>\n",
       "      <td>0.764586</td>\n",
       "      <td>0.207958</td>\n",
       "    </tr>\n",
       "    <tr>\n",
       "      <th>99580</th>\n",
       "      <td>WMIl8</td>\n",
       "      <td>-0.963094</td>\n",
       "      <td>0.312540</td>\n",
       "      <td>1.896006</td>\n",
       "      <td>0.714882</td>\n",
       "    </tr>\n",
       "  </tbody>\n",
       "</table>\n",
       "<p>194 rows × 5 columns</p>\n",
       "</div>"
      ],
      "text/plain": [
       "          id        f0        f1        f2   product\n",
       "307    Y4DnV  0.502926  0.593209 -2.399415  0.078123\n",
       "2229   NDc1S  0.763198  0.658588 -0.558619  0.038252\n",
       "3784   mXdEt  0.086728  1.128861 -0.525895  0.050657\n",
       "3789   dQc8v  0.710330  0.423648  0.424131  0.621153\n",
       "4109   3RhgB -0.714156  0.829910  3.795402  0.888251\n",
       "...      ...       ...       ...       ...       ...\n",
       "97721  oZ3UJ  0.701532  0.808797 -2.221334  0.004022\n",
       "97827  CVxJ4 -0.748880  0.584331  1.562582  0.722188\n",
       "98058  U7LCe -0.504360  0.754723  2.404490  0.250788\n",
       "99489  IO55C -0.531047  1.026292  0.764586  0.207958\n",
       "99580  WMIl8 -0.963094  0.312540  1.896006  0.714882\n",
       "\n",
       "[194 rows x 5 columns]"
      ]
     },
     "execution_count": 9,
     "metadata": {},
     "output_type": "execute_result"
    }
   ],
   "source": [
    "data_0[data_0['product'] < 1]"
   ]
  },
  {
   "cell_type": "markdown",
   "metadata": {},
   "source": [
    "## Region 2"
   ]
  },
  {
   "cell_type": "code",
   "execution_count": 10,
   "metadata": {},
   "outputs": [
    {
     "data": {
      "text/html": [
       "<div>\n",
       "<style scoped>\n",
       "    .dataframe tbody tr th:only-of-type {\n",
       "        vertical-align: middle;\n",
       "    }\n",
       "\n",
       "    .dataframe tbody tr th {\n",
       "        vertical-align: top;\n",
       "    }\n",
       "\n",
       "    .dataframe thead th {\n",
       "        text-align: right;\n",
       "    }\n",
       "</style>\n",
       "<table border=\"1\" class=\"dataframe\">\n",
       "  <thead>\n",
       "    <tr style=\"text-align: right;\">\n",
       "      <th></th>\n",
       "      <th>id</th>\n",
       "      <th>f0</th>\n",
       "      <th>f1</th>\n",
       "      <th>f2</th>\n",
       "      <th>product</th>\n",
       "    </tr>\n",
       "  </thead>\n",
       "  <tbody>\n",
       "    <tr>\n",
       "      <th>0</th>\n",
       "      <td>kBEdx</td>\n",
       "      <td>-15.001348</td>\n",
       "      <td>-8.276000</td>\n",
       "      <td>-0.005876</td>\n",
       "      <td>3.179103</td>\n",
       "    </tr>\n",
       "    <tr>\n",
       "      <th>1</th>\n",
       "      <td>62mP7</td>\n",
       "      <td>14.272088</td>\n",
       "      <td>-3.475083</td>\n",
       "      <td>0.999183</td>\n",
       "      <td>26.953261</td>\n",
       "    </tr>\n",
       "    <tr>\n",
       "      <th>2</th>\n",
       "      <td>vyE1P</td>\n",
       "      <td>6.263187</td>\n",
       "      <td>-5.948386</td>\n",
       "      <td>5.001160</td>\n",
       "      <td>134.766305</td>\n",
       "    </tr>\n",
       "    <tr>\n",
       "      <th>3</th>\n",
       "      <td>KcrkZ</td>\n",
       "      <td>-13.081196</td>\n",
       "      <td>-11.506057</td>\n",
       "      <td>4.999415</td>\n",
       "      <td>137.945408</td>\n",
       "    </tr>\n",
       "    <tr>\n",
       "      <th>4</th>\n",
       "      <td>AHL4O</td>\n",
       "      <td>12.702195</td>\n",
       "      <td>-8.147433</td>\n",
       "      <td>5.004363</td>\n",
       "      <td>134.766305</td>\n",
       "    </tr>\n",
       "  </tbody>\n",
       "</table>\n",
       "</div>"
      ],
      "text/plain": [
       "      id         f0         f1        f2     product\n",
       "0  kBEdx -15.001348  -8.276000 -0.005876    3.179103\n",
       "1  62mP7  14.272088  -3.475083  0.999183   26.953261\n",
       "2  vyE1P   6.263187  -5.948386  5.001160  134.766305\n",
       "3  KcrkZ -13.081196 -11.506057  4.999415  137.945408\n",
       "4  AHL4O  12.702195  -8.147433  5.004363  134.766305"
      ]
     },
     "execution_count": 10,
     "metadata": {},
     "output_type": "execute_result"
    }
   ],
   "source": [
    "data_1.head()"
   ]
  },
  {
   "cell_type": "code",
   "execution_count": 11,
   "metadata": {},
   "outputs": [
    {
     "name": "stdout",
     "output_type": "stream",
     "text": [
      "<class 'pandas.core.frame.DataFrame'>\n",
      "RangeIndex: 100000 entries, 0 to 99999\n",
      "Data columns (total 5 columns):\n",
      " #   Column   Non-Null Count   Dtype  \n",
      "---  ------   --------------   -----  \n",
      " 0   id       100000 non-null  object \n",
      " 1   f0       100000 non-null  float64\n",
      " 2   f1       100000 non-null  float64\n",
      " 3   f2       100000 non-null  float64\n",
      " 4   product  100000 non-null  float64\n",
      "dtypes: float64(4), object(1)\n",
      "memory usage: 3.8+ MB\n"
     ]
    }
   ],
   "source": [
    "data_1.info()"
   ]
  },
  {
   "cell_type": "code",
   "execution_count": 12,
   "metadata": {},
   "outputs": [
    {
     "data": {
      "text/plain": [
       "0"
      ]
     },
     "execution_count": 12,
     "metadata": {},
     "output_type": "execute_result"
    }
   ],
   "source": [
    "data_1.duplicated().sum()"
   ]
  },
  {
   "cell_type": "markdown",
   "metadata": {},
   "source": [
    "## Vamos a ver como se distribuyen los datos de la variable a predecir\n"
   ]
  },
  {
   "cell_type": "code",
   "execution_count": 13,
   "metadata": {},
   "outputs": [
    {
     "data": {
      "text/plain": [
       "<AxesSubplot:>"
      ]
     },
     "execution_count": 13,
     "metadata": {},
     "output_type": "execute_result"
    },
    {
     "data": {
      "image/png": "[encoded data removed]",
      "text/plain": [
       "<Figure size 640x480 with 1 Axes>"
      ]
     },
     "metadata": {},
     "output_type": "display_data"
    }
   ],
   "source": [
    "data_1['product'].hist(bins=10)"
   ]
  },
  {
   "cell_type": "code",
   "execution_count": 14,
   "metadata": {},
   "outputs": [
    {
     "data": {
      "text/plain": [
       "137.94540774090564"
      ]
     },
     "execution_count": 14,
     "metadata": {},
     "output_type": "execute_result"
    }
   ],
   "source": [
    "data_1['product'].max()"
   ]
  },
  {
   "cell_type": "code",
   "execution_count": 15,
   "metadata": {},
   "outputs": [
    {
     "data": {
      "text/plain": [
       "0.0"
      ]
     },
     "execution_count": 15,
     "metadata": {},
     "output_type": "execute_result"
    }
   ],
   "source": [
    "data_1['product'].min()"
   ]
  },
  {
   "cell_type": "code",
   "execution_count": 16,
   "metadata": {},
   "outputs": [
    {
     "data": {
      "text/plain": [
       "8235"
      ]
     },
     "execution_count": 16,
     "metadata": {},
     "output_type": "execute_result"
    }
   ],
   "source": [
    "(data_1['product'] < 1).sum()"
   ]
  },
  {
   "cell_type": "code",
   "execution_count": 17,
   "metadata": {},
   "outputs": [
    {
     "data": {
      "text/plain": [
       "16537"
      ]
     },
     "execution_count": 17,
     "metadata": {},
     "output_type": "execute_result"
    }
   ],
   "source": [
    "(data_1['product'] > 120).sum()"
   ]
  },
  {
   "cell_type": "markdown",
   "metadata": {},
   "source": [
    "## Region 3"
   ]
  },
  {
   "cell_type": "code",
   "execution_count": 18,
   "metadata": {},
   "outputs": [
    {
     "data": {
      "text/html": [
       "<div>\n",
       "<style scoped>\n",
       "    .dataframe tbody tr th:only-of-type {\n",
       "        vertical-align: middle;\n",
       "    }\n",
       "\n",
       "    .dataframe tbody tr th {\n",
       "        vertical-align: top;\n",
       "    }\n",
       "\n",
       "    .dataframe thead th {\n",
       "        text-align: right;\n",
       "    }\n",
       "</style>\n",
       "<table border=\"1\" class=\"dataframe\">\n",
       "  <thead>\n",
       "    <tr style=\"text-align: right;\">\n",
       "      <th></th>\n",
       "      <th>id</th>\n",
       "      <th>f0</th>\n",
       "      <th>f1</th>\n",
       "      <th>f2</th>\n",
       "      <th>product</th>\n",
       "    </tr>\n",
       "  </thead>\n",
       "  <tbody>\n",
       "    <tr>\n",
       "      <th>0</th>\n",
       "      <td>fwXo0</td>\n",
       "      <td>-1.146987</td>\n",
       "      <td>0.963328</td>\n",
       "      <td>-0.828965</td>\n",
       "      <td>27.758673</td>\n",
       "    </tr>\n",
       "    <tr>\n",
       "      <th>1</th>\n",
       "      <td>WJtFt</td>\n",
       "      <td>0.262778</td>\n",
       "      <td>0.269839</td>\n",
       "      <td>-2.530187</td>\n",
       "      <td>56.069697</td>\n",
       "    </tr>\n",
       "    <tr>\n",
       "      <th>2</th>\n",
       "      <td>ovLUW</td>\n",
       "      <td>0.194587</td>\n",
       "      <td>0.289035</td>\n",
       "      <td>-5.586433</td>\n",
       "      <td>62.871910</td>\n",
       "    </tr>\n",
       "    <tr>\n",
       "      <th>3</th>\n",
       "      <td>q6cA6</td>\n",
       "      <td>2.236060</td>\n",
       "      <td>-0.553760</td>\n",
       "      <td>0.930038</td>\n",
       "      <td>114.572842</td>\n",
       "    </tr>\n",
       "    <tr>\n",
       "      <th>4</th>\n",
       "      <td>WPMUX</td>\n",
       "      <td>-0.515993</td>\n",
       "      <td>1.716266</td>\n",
       "      <td>5.899011</td>\n",
       "      <td>149.600746</td>\n",
       "    </tr>\n",
       "  </tbody>\n",
       "</table>\n",
       "</div>"
      ],
      "text/plain": [
       "      id        f0        f1        f2     product\n",
       "0  fwXo0 -1.146987  0.963328 -0.828965   27.758673\n",
       "1  WJtFt  0.262778  0.269839 -2.530187   56.069697\n",
       "2  ovLUW  0.194587  0.289035 -5.586433   62.871910\n",
       "3  q6cA6  2.236060 -0.553760  0.930038  114.572842\n",
       "4  WPMUX -0.515993  1.716266  5.899011  149.600746"
      ]
     },
     "execution_count": 18,
     "metadata": {},
     "output_type": "execute_result"
    }
   ],
   "source": [
    "data_2.head()"
   ]
  },
  {
   "cell_type": "code",
   "execution_count": 19,
   "metadata": {},
   "outputs": [
    {
     "name": "stdout",
     "output_type": "stream",
     "text": [
      "<class 'pandas.core.frame.DataFrame'>\n",
      "RangeIndex: 100000 entries, 0 to 99999\n",
      "Data columns (total 5 columns):\n",
      " #   Column   Non-Null Count   Dtype  \n",
      "---  ------   --------------   -----  \n",
      " 0   id       100000 non-null  object \n",
      " 1   f0       100000 non-null  float64\n",
      " 2   f1       100000 non-null  float64\n",
      " 3   f2       100000 non-null  float64\n",
      " 4   product  100000 non-null  float64\n",
      "dtypes: float64(4), object(1)\n",
      "memory usage: 3.8+ MB\n"
     ]
    }
   ],
   "source": [
    "data_2.info()"
   ]
  },
  {
   "cell_type": "code",
   "execution_count": 20,
   "metadata": {},
   "outputs": [
    {
     "data": {
      "text/plain": [
       "0"
      ]
     },
     "execution_count": 20,
     "metadata": {},
     "output_type": "execute_result"
    }
   ],
   "source": [
    "data_2.duplicated().sum()"
   ]
  },
  {
   "cell_type": "markdown",
   "metadata": {},
   "source": [
    "## Vamos a ver como se distribuyen los datos de la variable a predecir\n"
   ]
  },
  {
   "cell_type": "code",
   "execution_count": 21,
   "metadata": {},
   "outputs": [
    {
     "data": {
      "text/plain": [
       "<AxesSubplot:>"
      ]
     },
     "execution_count": 21,
     "metadata": {},
     "output_type": "execute_result"
    },
    {
     "data": {
      "image/png": "[encoded data removed]",
      "text/plain": [
       "<Figure size 640x480 with 1 Axes>"
      ]
     },
     "metadata": {},
     "output_type": "display_data"
    }
   ],
   "source": [
    "data_2['product'].hist(bins=40)"
   ]
  },
  {
   "cell_type": "code",
   "execution_count": 22,
   "metadata": {},
   "outputs": [
    {
     "data": {
      "text/plain": [
       "190.0298383433513"
      ]
     },
     "execution_count": 22,
     "metadata": {},
     "output_type": "execute_result"
    }
   ],
   "source": [
    "data_2['product'].max()"
   ]
  },
  {
   "cell_type": "code",
   "execution_count": 23,
   "metadata": {},
   "outputs": [
    {
     "data": {
      "text/plain": [
       "0.0"
      ]
     },
     "execution_count": 23,
     "metadata": {},
     "output_type": "execute_result"
    }
   ],
   "source": [
    "data_2['product'].min()"
   ]
  },
  {
   "cell_type": "code",
   "execution_count": 24,
   "metadata": {},
   "outputs": [
    {
     "data": {
      "text/plain": [
       "191"
      ]
     },
     "execution_count": 24,
     "metadata": {},
     "output_type": "execute_result"
    }
   ],
   "source": [
    "(data_2['product'] < 1) .sum()"
   ]
  },
  {
   "cell_type": "markdown",
   "metadata": {},
   "source": [
    "### Exploración inicial de los datos(resumen)"
   ]
  },
  {
   "cell_type": "markdown",
   "metadata": {},
   "source": [
    "Podemos ver que en las tres regiones cuentan cada una con 100,000 filas y 5 columnas; las cuales el tipo de dato es correcto y no hay valores nulos, vamos a eliminar una columna en nuestro dataframe que no nos aporta informacion para evitar que nuestro modelo nos haga malas predicciones y posteriormente procederemos a separar caracteristicas y objetivos para el entrenamiento del modelo en cada region.Tambien pudimos observar con un histograma como se distribuyen los datos con la variable a predecir!!"
   ]
  },
  {
   "cell_type": "code",
   "execution_count": 25,
   "metadata": {},
   "outputs": [],
   "source": [
    "# eliminamos la columna que no aporta informacion en nuestro modelo en cada dataframe\n",
    "data_0 = data_0.drop('id', axis=1)\n",
    "data_1 = data_1.drop('id', axis=1)\n",
    "data_2 = data_2.drop('id', axis=1)"
   ]
  },
  {
   "cell_type": "code",
   "execution_count": 26,
   "metadata": {},
   "outputs": [
    {
     "data": {
      "text/plain": [
       "(100000, 4)"
      ]
     },
     "execution_count": 26,
     "metadata": {},
     "output_type": "execute_result"
    }
   ],
   "source": [
    "data_0.shape"
   ]
  },
  {
   "cell_type": "code",
   "execution_count": 27,
   "metadata": {},
   "outputs": [
    {
     "data": {
      "text/plain": [
       "(100000, 4)"
      ]
     },
     "execution_count": 27,
     "metadata": {},
     "output_type": "execute_result"
    }
   ],
   "source": [
    "data_1.shape"
   ]
  },
  {
   "cell_type": "code",
   "execution_count": 28,
   "metadata": {},
   "outputs": [
    {
     "data": {
      "text/plain": [
       "(100000, 4)"
      ]
     },
     "execution_count": 28,
     "metadata": {},
     "output_type": "execute_result"
    }
   ],
   "source": [
    "data_2.shape"
   ]
  },
  {
   "cell_type": "markdown",
   "metadata": {},
   "source": [
    "listo nos quedamos con los datos escenciales"
   ]
  },
  {
   "cell_type": "markdown",
   "metadata": {},
   "source": [
    "# SEPARAR CARACTERISTICAS Y OBJETIVOS  Y   DIVISION DE DATOS EN CONJUNTOS DE ENTRENAMIENTO Y VALIDACION"
   ]
  },
  {
   "cell_type": "code",
   "execution_count": 29,
   "metadata": {},
   "outputs": [],
   "source": [
    "# Separar caracteristicas y objetivos de cada región\n",
    "\n",
    "# Region 1\n",
    "features_0 = data_0.drop('product', axis=1)\n",
    "target_0 = data_0['product']\n",
    "\n",
    "# Region 2\n",
    "features_1 = data_1.drop('product', axis=1)\n",
    "target_1 = data_1['product']\n",
    "\n",
    "# Region 3\n",
    "features_2 = data_2.drop('product', axis=1)\n",
    "target_2 = data_2['product']"
   ]
  },
  {
   "cell_type": "code",
   "execution_count": 30,
   "metadata": {},
   "outputs": [],
   "source": [
    "#Dividimos nuestro conjunto de datos entrenamiento 75% y validación 25% de cada región\n",
    "\n",
    "#Region 1\n",
    "features_train_0, features_valid_0, target_train_0, target_valid_0 = train_test_split(features_0, target_0, test_size=.25, random_state=12345)\n",
    "\n",
    "# Region 2\n",
    "features_train_1, features_valid_1, target_train_1, target_valid_1 = train_test_split(features_1, target_1, test_size=.25, random_state=12345)\n",
    "\n",
    "# Region 3\n",
    "features_train_2, features_valid_2, target_train_2, target_valid_2 = train_test_split(features_2, target_2, test_size=.25, random_state=12345)"
   ]
  },
  {
   "cell_type": "markdown",
   "metadata": {},
   "source": [
    "# CREACION DE MODELO Y ENTRENAMIENTO"
   ]
  },
  {
   "cell_type": "code",
   "execution_count": 31,
   "metadata": {},
   "outputs": [],
   "source": [
    "# Crear el modelo de regresión lineal para cada región\n",
    "model_0 = LinearRegression()\n",
    "model_1 = LinearRegression()\n",
    "model_2 = LinearRegression()\n"
   ]
  },
  {
   "cell_type": "code",
   "execution_count": 32,
   "metadata": {},
   "outputs": [
    {
     "data": {
      "text/plain": [
       "LinearRegression()"
      ]
     },
     "execution_count": 32,
     "metadata": {},
     "output_type": "execute_result"
    }
   ],
   "source": [
    "# Entrenar el modelo en cada región\n",
    "model_0.fit(features_train_0, target_train_0)\n",
    "model_1.fit(features_train_1, target_train_1)\n",
    "model_2.fit(features_train_2, target_train_2)"
   ]
  },
  {
   "cell_type": "code",
   "execution_count": 33,
   "metadata": {
    "scrolled": true
   },
   "outputs": [
    {
     "name": "stdout",
     "output_type": "stream",
     "text": [
      "Volumen medio de reservas predicho para la Región 1: 92.59256778438035\n",
      "RMSE del modelo de regresión lineal en el conjunto de validación para la región 1: 37.5794217150813\n",
      "R^2 del modelo de regresión lineal en el conjunto de validación para la región 1: 0.27994321524487786\n",
      "\n",
      "Volumen medio de reservas predicho para la Región 2: 68.728546895446\n",
      "RMSE del modelo de regresión lineal en el conjunto de validación para la región 2: 0.893099286775617\n",
      "R^2 del modelo de regresión lineal en el conjunto de validación para la región 2: 0.9996233978805127\n",
      "\n",
      "Volumen medio de reservas predicho para la Región 3: 94.96504596800489\n",
      "RMSE del modelo de regresión lineal en el conjunto de validación para la región 3: 40.02970873393434\n",
      "R^2 del modelo de regresión lineal en el conjunto de validación para la región 3: 0.20524758386040443\n"
     ]
    }
   ],
   "source": [
    "# Obtén las predicciones del modelo en el conjunto de validación y calcula el RECM y R^2 para cada región\n",
    "predictions_valid_0 = model_0.predict(features_valid_0) \n",
    "rmse_0 = mean_squared_error(target_valid_0, predictions_valid_0)**0.5\n",
    "# Calcula el volumen medio de reservas predicho\n",
    "volumen_medio_predicho_0 = np.mean(predictions_valid_0)\n",
    "r2_0 = r2_score(target_valid_0, predictions_valid_0)\n",
    "print(\"Volumen medio de reservas predicho para la Región 1:\", volumen_medio_predicho_0)\n",
    "print(\"RMSE del modelo de regresión lineal en el conjunto de validación para la región 1:\", rmse_0)\n",
    "print(\"R^2 del modelo de regresión lineal en el conjunto de validación para la región 1:\", r2_0)\n",
    "print()\n",
    "\n",
    "predictions_valid_1 = model_1.predict(features_valid_1) \n",
    "rmse_1 = mean_squared_error(target_valid_1, predictions_valid_1)**0.5\n",
    "# Calcula el volumen medio de reservas predicho\n",
    "volumen_medio_predicho_1 = np.mean(predictions_valid_1)\n",
    "r2_1 = r2_score(target_valid_1, predictions_valid_1)\n",
    "print(\"Volumen medio de reservas predicho para la Región 2:\", volumen_medio_predicho_1)\n",
    "print(\"RMSE del modelo de regresión lineal en el conjunto de validación para la región 2:\", rmse_1)\n",
    "print(\"R^2 del modelo de regresión lineal en el conjunto de validación para la región 2:\", r2_1)\n",
    "print()\n",
    "\n",
    "predictions_valid_2 = model_2.predict(features_valid_2) \n",
    "rmse_2 = mean_squared_error(target_valid_2, predictions_valid_2)**0.5\n",
    "# Calcula el volumen medio de reservas predicho\n",
    "volumen_medio_predicho_2 = np.mean(predictions_valid_2)\n",
    "r2_2 = r2_score(target_valid_2, predictions_valid_2)\n",
    "print(\"Volumen medio de reservas predicho para la Región 3:\", volumen_medio_predicho_2)\n",
    "print(\"RMSE del modelo de regresión lineal en el conjunto de validación para la región 3:\", rmse_2)\n",
    "print(\"R^2 del modelo de regresión lineal en el conjunto de validación para la región 3:\", r2_2)"
   ]
  },
  {
   "cell_type": "markdown",
   "metadata": {},
   "source": [
    "## Region 1"
   ]
  },
  {
   "cell_type": "markdown",
   "metadata": {},
   "source": [
    "El RMSE (Root Mean Squared Error) es de aproximadamente 37.58.\n",
    "El coeficiente de determinación \n",
    "𝑅\n",
    "2\n",
    "R \n",
    "2\n",
    "  es de aproximadamente 0.28.\n",
    "Un RMSE más bajo indica un mejor ajuste del modelo a los datos, mientras que un \n",
    "𝑅\n",
    "2\n",
    "R \n",
    "2\n",
    "  más cercano a 1 indica una mejor capacidad del modelo para explicar la variabilidad en los datos. En este caso, el \n",
    "𝑅\n",
    "2\n",
    "R \n",
    "2\n",
    "  es bajo, lo que sugiere que el modelo explica solo una pequeña parte de la variabilidad en los datos."
   ]
  },
  {
   "cell_type": "markdown",
   "metadata": {},
   "source": [
    "## Region 2"
   ]
  },
  {
   "cell_type": "markdown",
   "metadata": {},
   "source": [
    "El RMSE es sorprendentemente bajo, alrededor de 0.89.\n",
    "El coeficiente de determinación \n",
    "𝑅\n",
    "2\n",
    "R \n",
    "2\n",
    "  es cercano a 1, específicamente 0.9996.\n",
    "Estos resultados indican que el modelo tiene un ajuste casi perfecto a los datos en esta región, con un \n",
    "𝑅\n",
    "2\n",
    "R \n",
    "2\n",
    "  muy alto y un RMSE muy bajo."
   ]
  },
  {
   "cell_type": "markdown",
   "metadata": {},
   "source": [
    "## Region 3"
   ]
  },
  {
   "cell_type": "markdown",
   "metadata": {},
   "source": [
    "El RMSE es de aproximadamente 40.03.\n",
    "El coeficiente de determinación \n",
    "𝑅\n",
    "2\n",
    "R \n",
    "2\n",
    "  es de aproximadamente 0.21.\n",
    "Similar a la Región 1, el \n",
    "𝑅\n",
    "2\n",
    "R \n",
    "2\n",
    "  es bajo, lo que sugiere que el modelo tiene dificultades para explicar la variabilidad en los datos."
   ]
  },
  {
   "cell_type": "markdown",
   "metadata": {},
   "source": [
    "## conclusiones del modelo en las 3 regiones"
   ]
  },
  {
   "cell_type": "markdown",
   "metadata": {},
   "source": [
    "En resumen, mientras que los modelos en las Regiones 1 y 3 parecen tener un rendimiento similar con \n",
    "𝑅\n",
    "2\n",
    "R \n",
    "2\n",
    "  bajos, el modelo en la Región 2 parece tener un rendimiento excepcionalmente bueno"
   ]
  },
  {
   "cell_type": "markdown",
   "metadata": {},
   "source": [
    "# Preparar el calculo de ganancias"
   ]
  },
  {
   "cell_type": "markdown",
   "metadata": {},
   "source": [
    "Si la inversion fue de 100,000,000 de dolares por 200 pozos, cada pozo debe mínimo producir 500,000 dolares en unidades serían 111.1 para evitar perdidas!\n",
    "- Vamos a comparar estas unidades con la cantidad media de unidades en cada Región."
   ]
  },
  {
   "cell_type": "code",
   "execution_count": 34,
   "metadata": {},
   "outputs": [
    {
     "name": "stdout",
     "output_type": "stream",
     "text": [
      "Región 1 cantidad media de unidades : 92.59256778438035  //  Producción minima en unidades_ 111.1\n",
      "Región 2 cantidad media de unidades : 68.728546895446  //  Producción minima en unidades_ 111.1\n",
      "Región 3 cantidad media de unidades : 94.96504596800489  //  Producción minima en unidades_ 111.1\n"
     ]
    }
   ],
   "source": [
    "volumen_medio_predicho_0 = np.mean(predictions_valid_0)\n",
    "print('Región 1 cantidad media de unidades :', volumen_medio_predicho_0, ' //  Producción minima en unidades_ 111.1')\n",
    "volumen_medio_predicho_1 = np.mean(predictions_valid_1)\n",
    "print('Región 2 cantidad media de unidades :', volumen_medio_predicho_1, ' //  Producción minima en unidades_ 111.1')\n",
    "volumen_medio_predicho_2 = np.mean(predictions_valid_2)\n",
    "print('Región 3 cantidad media de unidades :', volumen_medio_predicho_2, ' //  Producción minima en unidades_ 111.1')"
   ]
  },
  {
   "cell_type": "markdown",
   "metadata": {},
   "source": [
    "Podemos observar a simple vista que la region 1 y 3 son las que más se acercan a las producción minima de unidades que es de 111.1"
   ]
  },
  {
   "cell_type": "markdown",
   "metadata": {},
   "source": [
    "## **Ahora vamos a calcular el beneficio**"
   ]
  },
  {
   "cell_type": "code",
   "execution_count": 35,
   "metadata": {},
   "outputs": [],
   "source": [
    "# Gastos operativos (Gastos operativos son todos los gastos relacionados con las operaciones comerciales de la empresa)\n",
    "presupuesto = 100_000_000 #dolares\n",
    "valor_una_unidad = 4500"
   ]
  },
  {
   "cell_type": "markdown",
   "metadata": {},
   "source": [
    "## Funcion para calcular la ganancia de un conjunto de pozos de petróleo seleccionados (sin usar bootstrapping)"
   ]
  },
  {
   "cell_type": "code",
   "execution_count": 37,
   "metadata": {},
   "outputs": [
    {
     "name": "stdout",
     "output_type": "stream",
     "text": [
      "Ganancia esperada Region 1: 33208260.43139851\n",
      "Ganancia esperada Region 2: 24150866.966815114\n",
      "Ganancia esperada Region 3: 27103499.635998324\n"
     ]
    }
   ],
   "source": [
    "def profit(predicciones, target_valid, pago_por_unidad, presupuesto, top_n=200):\n",
    "    \n",
    "  \n",
    "    # Obtener los índices de los mejores 'top_n' pozos\n",
    "    mejores_indices = np.argsort(predicciones)[-top_n:]\n",
    "\n",
    "    # Filtrar el target_valid usando los índices obtenidos\n",
    "    mejores_pozos = target_valid.iloc[mejores_indices]\n",
    "\n",
    "    # Sumar el target de los mejores pozos\n",
    "    suma_mejores_pozos = np.sum(mejores_pozos)\n",
    "\n",
    "    # Calcular la ganancia\n",
    "    ganancia = (suma_mejores_pozos * pago_por_unidad) - presupuesto\n",
    "\n",
    "    return ganancia\n",
    "\n",
    "ganancia_1 = profit(predictions_valid_0, target_valid_0, valor_una_unidad, presupuesto)\n",
    "ganancia_2 = profit(predictions_valid_1, target_valid_1, valor_una_unidad, presupuesto)\n",
    "ganancia_3 = profit(predictions_valid_2, target_valid_2, valor_una_unidad, presupuesto)\n",
    "\n",
    "print(\"Ganancia esperada Region 1:\", ganancia_1)\n",
    "print(\"Ganancia esperada Region 2:\", ganancia_2)\n",
    "print(\"Ganancia esperada Region 3:\", ganancia_3)"
   ]
  },
  {
   "cell_type": "markdown",
   "metadata": {},
   "source": [
    "## Conclusiones de esta seccion"
   ]
  },
  {
   "cell_type": "markdown",
   "metadata": {},
   "source": [
    "Podemos concluir que la Región 1 sería la adecuada para el desarrollo de 200 pozos petrolíferos ya que pudieramos generar una ganancia de 33,208,260 dolares!! con una inversion de 100,000,000 de dolares!!"
   ]
  },
  {
   "cell_type": "markdown",
   "metadata": {},
   "source": [
    "# Riesgos y Ganacias para cada region"
   ]
  },
  {
   "cell_type": "markdown",
   "metadata": {},
   "source": [
    "- Utilizaremos las predicciones que almacenamos  para realizar el submuestreo con la técnica del bootstrapping \n",
    "- Posteriormente encontraremos el beneficio promedio\n",
    "- El intervalo de confianza del 95%\n",
    "- Riesgo de perdidas\n"
   ]
  },
  {
   "cell_type": "code",
   "execution_count": 101,
   "metadata": {},
   "outputs": [],
   "source": [
    "state = np.random.RandomState(12345)\n",
    "def bootstrapping(target, predictions,valor_una_unidad,presupuesto):        \n",
    "    target = target.reset_index(drop=True)\n",
    "    profits = []\n",
    "    for i in range(1000):\n",
    "        target_subsample = target.sample(n=500, replace=True, random_state=state)\n",
    "        pred_subsample = pd.Series(predictions).iloc[target_subsample.index]\n",
    "        profits.append(profit(pred_subsample,target_subsample,valor_una_unidad,presupuesto)) \n",
    "    profits = pd.Series(profits)\n",
    "    \n",
    "    # Calcular la media\n",
    "    media = profits.mean()\n",
    "\n",
    "    # Calcular el intervalo de confianza al 95% usando los cuantiles\n",
    "    intervalo_confianza = profits.quantile([0.025, 0.975])\n",
    "\n",
    "    # Calcular el riesgo como la proporción de profits menores a 0\n",
    "    riesgo = (profits < 0).mean()\n",
    "\n",
    "    return {\n",
    "        \"profits\": profits,\n",
    "        \"media\": media,\n",
    "        \"intervalo_confianza\": intervalo_confianza,\n",
    "        \"riesgo\": riesgo\n",
    "    }\n",
    "\n",
    "    \n",
    "                           \n",
    "                        \n",
    "\n",
    "    "
   ]
  },
  {
   "cell_type": "code",
   "execution_count": 102,
   "metadata": {},
   "outputs": [
    {
     "data": {
      "text/plain": [
       "{'profits': 0      6.054641e+06\n",
       " 1      5.363934e+06\n",
       " 2      2.937858e+06\n",
       " 3      1.789934e+06\n",
       " 4      2.719929e+06\n",
       "            ...     \n",
       " 995    5.253551e+06\n",
       " 996    7.790094e+06\n",
       " 997    6.494122e+06\n",
       " 998    3.149995e+06\n",
       " 999    2.197184e+06\n",
       " Length: 1000, dtype: float64,\n",
       " 'media': 3961649.848023711,\n",
       " 'intervalo_confianza': 0.025   -1.112155e+06\n",
       " 0.975    9.097669e+06\n",
       " dtype: float64,\n",
       " 'riesgo': 0.069}"
      ]
     },
     "execution_count": 102,
     "metadata": {},
     "output_type": "execute_result"
    }
   ],
   "source": [
    "region_1 = bootstrapping(target_valid_0, predictions_valid_0,valor_una_unidad,presupuesto)\n",
    "region_1\n"
   ]
  },
  {
   "cell_type": "code",
   "execution_count": 91,
   "metadata": {},
   "outputs": [
    {
     "data": {
      "text/plain": [
       "{'profits': 0      3.178949e+06\n",
       " 1      1.010041e+06\n",
       " 2      1.295538e+06\n",
       " 3      5.105900e+06\n",
       " 4      5.512065e+06\n",
       "            ...     \n",
       " 995    5.805026e+06\n",
       " 996    4.812317e+06\n",
       " 997    2.237244e+06\n",
       " 998    1.019198e+07\n",
       " 999    2.458675e+06\n",
       " Length: 1000, dtype: float64,\n",
       " 'media': 4611558.1727723945,\n",
       " 'intervalo_confianza': 0.025    7.805081e+05\n",
       " 0.975    8.629521e+06\n",
       " dtype: float64,\n",
       " 'riesgo': 0.007}"
      ]
     },
     "execution_count": 91,
     "metadata": {},
     "output_type": "execute_result"
    }
   ],
   "source": [
    "region_2 = bootstrapping(target_valid_1, predictions_valid_1,valor_una_unidad,presupuesto)\n",
    "region_2"
   ]
  },
  {
   "cell_type": "code",
   "execution_count": 92,
   "metadata": {},
   "outputs": [
    {
     "data": {
      "text/plain": [
       "{'profits': 0      7.433808e+06\n",
       " 1      5.687995e+06\n",
       " 2      2.468884e+06\n",
       " 3      3.901355e+06\n",
       " 4      5.309689e+06\n",
       "            ...     \n",
       " 995    3.775866e+06\n",
       " 996    2.242284e+06\n",
       " 997    3.426094e+06\n",
       " 998    7.545774e+06\n",
       " 999   -1.156280e+05\n",
       " Length: 1000, dtype: float64,\n",
       " 'media': 3929504.751706046,\n",
       " 'intervalo_confianza': 0.025   -1.122276e+06\n",
       " 0.975    9.345629e+06\n",
       " dtype: float64,\n",
       " 'riesgo': 0.065}"
      ]
     },
     "execution_count": 92,
     "metadata": {},
     "output_type": "execute_result"
    }
   ],
   "source": [
    "region_3 = bootstrapping(target_valid_2, predictions_valid_2,valor_una_unidad,presupuesto)\n",
    "region_3\n",
    "                        "
   ]
  },
  {
   "cell_type": "markdown",
   "metadata": {},
   "source": [
    "# Conclusiones generales:"
   ]
  },
  {
   "cell_type": "markdown",
   "metadata": {},
   "source": [
    "Podemos observar de a cuerdo a nuestra funcion de bootstrapping que la region 2 cuenta con una media más alta que las otras regiones su media es un poco más de 4 millones de dolares en ganancias y con un riesgo menor!\n",
    "\n",
    "**Eligiendo a la Región 2 para abrir los 200 nuevos pozos petroleros!!**"
   ]
  },
  {
   "cell_type": "code",
   "execution_count": null,
   "metadata": {},
   "outputs": [],
   "source": []
  }
 ],
 "metadata": {
  "ExecuteTimeLog": [
   {
    "duration": 5121,
    "start_time": "2024-05-16T22:52:12.832Z"
   },
   {
    "duration": 3610,
    "start_time": "2024-05-16T22:52:17.960Z"
   },
   {
    "duration": 28,
    "start_time": "2024-05-16T22:52:21.573Z"
   },
   {
    "duration": 21,
    "start_time": "2024-05-16T22:52:21.605Z"
   },
   {
    "duration": 81,
    "start_time": "2024-05-16T22:52:21.629Z"
   },
   {
    "duration": 307,
    "start_time": "2024-05-16T22:52:21.713Z"
   },
   {
    "duration": 7,
    "start_time": "2024-05-16T22:52:22.023Z"
   },
   {
    "duration": 7,
    "start_time": "2024-05-16T22:52:22.034Z"
   },
   {
    "duration": 20,
    "start_time": "2024-05-16T22:52:22.044Z"
   },
   {
    "duration": 13,
    "start_time": "2024-05-16T22:52:22.106Z"
   },
   {
    "duration": 18,
    "start_time": "2024-05-16T22:52:22.122Z"
   },
   {
    "duration": 85,
    "start_time": "2024-05-16T22:52:22.143Z"
   },
   {
    "duration": 236,
    "start_time": "2024-05-16T22:52:22.230Z"
   },
   {
    "duration": 7,
    "start_time": "2024-05-16T22:52:22.469Z"
   },
   {
    "duration": 26,
    "start_time": "2024-05-16T22:52:22.479Z"
   },
   {
    "duration": 7,
    "start_time": "2024-05-16T22:52:22.508Z"
   },
   {
    "duration": 7,
    "start_time": "2024-05-16T22:52:22.519Z"
   },
   {
    "duration": 12,
    "start_time": "2024-05-16T22:52:22.530Z"
   },
   {
    "duration": 63,
    "start_time": "2024-05-16T22:52:22.545Z"
   },
   {
    "duration": 56,
    "start_time": "2024-05-16T22:52:22.611Z"
   },
   {
    "duration": 297,
    "start_time": "2024-05-16T22:52:22.670Z"
   },
   {
    "duration": 7,
    "start_time": "2024-05-16T22:52:22.971Z"
   },
   {
    "duration": 25,
    "start_time": "2024-05-16T22:52:22.981Z"
   },
   {
    "duration": 7,
    "start_time": "2024-05-16T22:52:23.009Z"
   },
   {
    "duration": 10,
    "start_time": "2024-05-16T22:52:23.019Z"
   },
   {
    "duration": 5,
    "start_time": "2024-05-16T22:52:23.033Z"
   },
   {
    "duration": 7,
    "start_time": "2024-05-16T22:52:23.041Z"
   },
   {
    "duration": 6,
    "start_time": "2024-05-16T22:52:23.109Z"
   },
   {
    "duration": 13,
    "start_time": "2024-05-16T22:52:23.119Z"
   },
   {
    "duration": 75,
    "start_time": "2024-05-16T22:52:23.135Z"
   },
   {
    "duration": 4,
    "start_time": "2024-05-16T22:52:23.213Z"
   },
   {
    "duration": 29,
    "start_time": "2024-05-16T22:52:23.221Z"
   },
   {
    "duration": 57,
    "start_time": "2024-05-16T22:52:23.253Z"
   },
   {
    "duration": 9,
    "start_time": "2024-05-16T22:52:23.313Z"
   },
   {
    "duration": 77,
    "start_time": "2024-05-16T22:52:23.325Z"
   },
   {
    "duration": 4,
    "start_time": "2024-05-16T22:52:23.406Z"
   },
   {
    "duration": 7,
    "start_time": "2024-05-16T22:52:23.415Z"
   },
   {
    "duration": 95,
    "start_time": "2024-05-16T22:52:23.425Z"
   },
   {
    "duration": 22,
    "start_time": "2024-05-16T22:52:23.523Z"
   },
   {
    "duration": 14,
    "start_time": "2024-05-16T22:52:23.549Z"
   },
   {
    "duration": 36,
    "start_time": "2024-05-16T22:52:23.566Z"
   },
   {
    "duration": 20,
    "start_time": "2024-05-16T22:52:23.606Z"
   },
   {
    "duration": 71,
    "start_time": "2024-05-16T22:52:23.630Z"
   },
   {
    "duration": 9,
    "start_time": "2024-05-16T22:52:23.705Z"
   },
   {
    "duration": 7,
    "start_time": "2024-05-16T22:52:23.717Z"
   },
   {
    "duration": 6,
    "start_time": "2024-05-16T22:52:23.727Z"
   },
   {
    "duration": 6,
    "start_time": "2024-05-16T22:52:23.736Z"
   },
   {
    "duration": 222,
    "start_time": "2024-05-16T22:52:23.745Z"
   },
   {
    "duration": 727,
    "start_time": "2024-05-16T22:52:23.970Z"
   },
   {
    "duration": 142,
    "start_time": "2024-05-16T22:52:24.700Z"
   },
   {
    "duration": 160,
    "start_time": "2024-05-16T22:52:24.845Z"
   },
   {
    "duration": 137,
    "start_time": "2024-05-16T22:52:25.008Z"
   },
   {
    "duration": 6,
    "start_time": "2024-05-16T22:52:25.149Z"
   },
   {
    "duration": 5,
    "start_time": "2024-05-16T22:52:25.159Z"
   },
   {
    "duration": 49,
    "start_time": "2024-05-16T22:52:25.168Z"
   },
   {
    "duration": 21,
    "start_time": "2024-05-16T22:52:25.220Z"
   },
   {
    "duration": 21,
    "start_time": "2024-05-16T22:52:25.243Z"
   },
   {
    "duration": 38,
    "start_time": "2024-05-16T22:52:25.303Z"
   },
   {
    "duration": 8,
    "start_time": "2024-05-16T22:52:25.344Z"
   },
   {
    "duration": 66,
    "start_time": "2024-05-16T22:52:25.356Z"
   },
   {
    "duration": 7,
    "start_time": "2024-05-16T22:52:25.425Z"
   },
   {
    "duration": 36,
    "start_time": "2024-05-16T22:52:25.435Z"
   },
   {
    "duration": 6,
    "start_time": "2024-05-16T22:52:25.502Z"
   },
   {
    "duration": 4,
    "start_time": "2024-05-16T23:38:37.079Z"
   },
   {
    "duration": 47,
    "start_time": "2024-05-16T23:38:38.340Z"
   },
   {
    "duration": 8,
    "start_time": "2024-05-16T23:38:42.143Z"
   },
   {
    "duration": 4,
    "start_time": "2024-05-16T23:41:34.796Z"
   },
   {
    "duration": 4,
    "start_time": "2024-05-16T23:41:39.555Z"
   },
   {
    "duration": 10,
    "start_time": "2024-05-16T23:41:39.808Z"
   },
   {
    "duration": 4,
    "start_time": "2024-05-16T23:41:42.081Z"
   },
   {
    "duration": 66,
    "start_time": "2024-05-16T23:41:42.621Z"
   },
   {
    "duration": 57,
    "start_time": "2024-05-16T23:42:18.984Z"
   },
   {
    "duration": 8,
    "start_time": "2024-05-16T23:42:19.282Z"
   },
   {
    "duration": 6,
    "start_time": "2024-05-16T23:42:19.964Z"
   },
   {
    "duration": 9,
    "start_time": "2024-05-17T00:12:41.358Z"
   },
   {
    "duration": 6,
    "start_time": "2024-05-17T00:12:48.574Z"
   },
   {
    "duration": 7,
    "start_time": "2024-05-17T01:28:41.451Z"
   },
   {
    "duration": 5,
    "start_time": "2024-05-17T01:29:38.805Z"
   },
   {
    "duration": 517,
    "start_time": "2024-05-17T01:31:19.747Z"
   },
   {
    "duration": 5,
    "start_time": "2024-05-17T01:35:39.631Z"
   },
   {
    "duration": 53,
    "start_time": "2024-05-17T01:35:46.162Z"
   },
   {
    "duration": 5,
    "start_time": "2024-05-17T01:37:32.197Z"
   },
   {
    "duration": 21,
    "start_time": "2024-05-17T01:37:33.040Z"
   },
   {
    "duration": 20,
    "start_time": "2024-05-17T01:37:57.902Z"
   },
   {
    "duration": 4,
    "start_time": "2024-05-17T01:38:30.728Z"
   },
   {
    "duration": 5188,
    "start_time": "2024-05-17T18:06:03.726Z"
   },
   {
    "duration": 2983,
    "start_time": "2024-05-17T18:06:08.926Z"
   },
   {
    "duration": 19,
    "start_time": "2024-05-17T18:06:11.912Z"
   },
   {
    "duration": 23,
    "start_time": "2024-05-17T18:06:11.936Z"
   },
   {
    "duration": 74,
    "start_time": "2024-05-17T18:06:15.408Z"
   },
   {
    "duration": 286,
    "start_time": "2024-05-17T18:06:16.161Z"
   },
   {
    "duration": 8,
    "start_time": "2024-05-17T18:06:16.778Z"
   },
   {
    "duration": 8,
    "start_time": "2024-05-17T18:06:17.181Z"
   },
   {
    "duration": 20,
    "start_time": "2024-05-17T18:06:17.343Z"
   },
   {
    "duration": 14,
    "start_time": "2024-05-17T18:06:17.640Z"
   },
   {
    "duration": 19,
    "start_time": "2024-05-17T18:06:17.800Z"
   },
   {
    "duration": 66,
    "start_time": "2024-05-17T18:06:17.935Z"
   },
   {
    "duration": 234,
    "start_time": "2024-05-17T18:06:18.237Z"
   },
   {
    "duration": 8,
    "start_time": "2024-05-17T18:06:18.476Z"
   },
   {
    "duration": 9,
    "start_time": "2024-05-17T18:06:18.519Z"
   },
   {
    "duration": 8,
    "start_time": "2024-05-17T18:06:18.668Z"
   },
   {
    "duration": 7,
    "start_time": "2024-05-17T18:06:18.802Z"
   },
   {
    "duration": 14,
    "start_time": "2024-05-17T18:06:19.095Z"
   },
   {
    "duration": 19,
    "start_time": "2024-05-17T18:06:19.250Z"
   },
   {
    "duration": 70,
    "start_time": "2024-05-17T18:06:19.390Z"
   },
   {
    "duration": 368,
    "start_time": "2024-05-17T18:06:19.680Z"
   },
   {
    "duration": 8,
    "start_time": "2024-05-17T18:06:20.051Z"
   },
   {
    "duration": 8,
    "start_time": "2024-05-17T18:06:20.062Z"
   },
   {
    "duration": 8,
    "start_time": "2024-05-17T18:06:20.144Z"
   },
   {
    "duration": 10,
    "start_time": "2024-05-17T18:06:20.814Z"
   },
   {
    "duration": 6,
    "start_time": "2024-05-17T18:06:20.955Z"
   },
   {
    "duration": 7,
    "start_time": "2024-05-17T18:06:21.141Z"
   },
   {
    "duration": 9,
    "start_time": "2024-05-17T18:06:21.295Z"
   },
   {
    "duration": 12,
    "start_time": "2024-05-17T18:06:21.926Z"
   },
   {
    "duration": 48,
    "start_time": "2024-05-17T18:06:22.073Z"
   },
   {
    "duration": 5,
    "start_time": "2024-05-17T18:06:22.385Z"
   },
   {
    "duration": 30,
    "start_time": "2024-05-17T18:06:22.548Z"
   },
   {
    "duration": 23,
    "start_time": "2024-05-17T18:06:22.695Z"
   },
   {
    "duration": 6,
    "start_time": "2024-05-17T18:07:06.872Z"
   },
   {
    "duration": 4,
    "start_time": "2024-05-17T18:07:38.739Z"
   },
   {
    "duration": 4,
    "start_time": "2024-05-17T18:07:39.108Z"
   },
   {
    "duration": 4,
    "start_time": "2024-05-17T18:15:03.250Z"
   },
   {
    "duration": 20,
    "start_time": "2024-05-17T18:15:16.458Z"
   },
   {
    "duration": 8,
    "start_time": "2024-05-17T18:19:29.984Z"
   },
   {
    "duration": 58,
    "start_time": "2024-05-17T18:19:57.213Z"
   },
   {
    "duration": 419,
    "start_time": "2024-05-17T18:20:43.263Z"
   },
   {
    "duration": 6,
    "start_time": "2024-05-17T18:21:10.257Z"
   },
   {
    "duration": 50,
    "start_time": "2024-05-17T18:21:32.208Z"
   },
   {
    "duration": 5,
    "start_time": "2024-05-17T18:38:40.606Z"
   },
   {
    "duration": 8,
    "start_time": "2024-05-17T19:08:18.159Z"
   },
   {
    "duration": 9,
    "start_time": "2024-05-17T19:08:27.725Z"
   },
   {
    "duration": 5,
    "start_time": "2024-05-17T20:17:52.534Z"
   },
   {
    "duration": 32,
    "start_time": "2024-05-17T20:20:02.187Z"
   },
   {
    "duration": 5,
    "start_time": "2024-05-17T20:20:54.855Z"
   },
   {
    "duration": 46,
    "start_time": "2024-05-17T20:20:59.877Z"
   },
   {
    "duration": 5,
    "start_time": "2024-05-17T20:25:42.389Z"
   },
   {
    "duration": 42,
    "start_time": "2024-05-17T20:25:55.555Z"
   },
   {
    "duration": 8,
    "start_time": "2024-05-17T20:26:38.445Z"
   },
   {
    "duration": 302,
    "start_time": "2024-05-17T20:26:42.188Z"
   },
   {
    "duration": 5,
    "start_time": "2024-05-17T20:30:17.085Z"
   },
   {
    "duration": 135,
    "start_time": "2024-05-17T20:30:19.964Z"
   },
   {
    "duration": 5,
    "start_time": "2024-05-17T20:34:02.429Z"
   },
   {
    "duration": 121,
    "start_time": "2024-05-17T20:34:03.101Z"
   },
   {
    "duration": 5,
    "start_time": "2024-05-17T20:35:20.386Z"
   },
   {
    "duration": 117,
    "start_time": "2024-05-17T20:35:22.659Z"
   },
   {
    "duration": 8,
    "start_time": "2024-05-17T20:37:14.418Z"
   },
   {
    "duration": 67,
    "start_time": "2024-05-17T20:37:14.884Z"
   },
   {
    "duration": 5,
    "start_time": "2024-05-17T20:37:53.377Z"
   },
   {
    "duration": 55,
    "start_time": "2024-05-17T20:37:53.761Z"
   },
   {
    "duration": 7,
    "start_time": "2024-05-17T20:44:07.546Z"
   },
   {
    "duration": 9,
    "start_time": "2024-05-17T20:44:17.922Z"
   },
   {
    "duration": 53,
    "start_time": "2024-05-17T20:44:45.835Z"
   },
   {
    "duration": 6,
    "start_time": "2024-05-17T20:46:17.808Z"
   },
   {
    "duration": 67,
    "start_time": "2024-05-17T20:46:18.189Z"
   },
   {
    "duration": 7,
    "start_time": "2024-05-17T20:47:53.198Z"
   },
   {
    "duration": 42,
    "start_time": "2024-05-17T20:48:20.263Z"
   },
   {
    "duration": 8,
    "start_time": "2024-05-17T20:50:13.354Z"
   },
   {
    "duration": 42,
    "start_time": "2024-05-17T20:50:13.892Z"
   },
   {
    "duration": 7,
    "start_time": "2024-05-17T20:53:32.830Z"
   },
   {
    "duration": 15565,
    "start_time": "2024-05-17T20:53:33.166Z"
   },
   {
    "duration": 15485,
    "start_time": "2024-05-17T20:54:53.179Z"
   },
   {
    "duration": 55,
    "start_time": "2024-05-17T20:56:09.135Z"
   },
   {
    "duration": 74,
    "start_time": "2024-05-17T21:03:00.087Z"
   },
   {
    "duration": 15229,
    "start_time": "2024-05-17T21:03:41.732Z"
   },
   {
    "duration": 14,
    "start_time": "2024-05-17T21:03:56.964Z"
   },
   {
    "duration": 7,
    "start_time": "2024-05-17T21:08:17.019Z"
   },
   {
    "duration": 145,
    "start_time": "2024-05-17T21:08:19.780Z"
   },
   {
    "duration": 12,
    "start_time": "2024-05-17T21:08:20.847Z"
   },
   {
    "duration": 38,
    "start_time": "2024-05-17T21:09:30.775Z"
   },
   {
    "duration": 777,
    "start_time": "2024-05-17T21:39:56.628Z"
   },
   {
    "duration": 7,
    "start_time": "2024-05-17T21:39:58.062Z"
   },
   {
    "duration": 8,
    "start_time": "2024-05-17T21:47:02.547Z"
   },
   {
    "duration": 30,
    "start_time": "2024-05-17T21:47:58.027Z"
   },
   {
    "duration": 8,
    "start_time": "2024-05-17T21:48:03.919Z"
   },
   {
    "duration": 5,
    "start_time": "2024-05-17T22:08:43.299Z"
   },
   {
    "duration": 6,
    "start_time": "2024-05-17T22:18:45.933Z"
   },
   {
    "duration": 41,
    "start_time": "2024-05-17T22:18:46.359Z"
   },
   {
    "duration": 5,
    "start_time": "2024-05-17T22:35:28.283Z"
   },
   {
    "duration": 25,
    "start_time": "2024-05-17T22:35:49.482Z"
   },
   {
    "duration": 37,
    "start_time": "2024-05-17T22:35:54.378Z"
   },
   {
    "duration": 5,
    "start_time": "2024-05-17T22:36:41.768Z"
   },
   {
    "duration": 50,
    "start_time": "2024-05-17T22:36:42.303Z"
   },
   {
    "duration": 4,
    "start_time": "2024-05-17T22:37:19.736Z"
   },
   {
    "duration": 45,
    "start_time": "2024-05-17T22:37:20.139Z"
   },
   {
    "duration": 4,
    "start_time": "2024-05-17T22:38:13.962Z"
   },
   {
    "duration": 25,
    "start_time": "2024-05-17T22:38:14.923Z"
   },
   {
    "duration": 41,
    "start_time": "2024-05-17T22:38:21.795Z"
   },
   {
    "duration": 5,
    "start_time": "2024-05-17T22:38:52.250Z"
   },
   {
    "duration": 24,
    "start_time": "2024-05-17T22:38:52.921Z"
   },
   {
    "duration": 41,
    "start_time": "2024-05-17T22:39:01.490Z"
   },
   {
    "duration": 5,
    "start_time": "2024-05-17T22:41:14.916Z"
   },
   {
    "duration": 49,
    "start_time": "2024-05-17T22:41:15.816Z"
   },
   {
    "duration": 7,
    "start_time": "2024-05-17T22:41:23.276Z"
   },
   {
    "duration": 42,
    "start_time": "2024-05-17T22:41:25.875Z"
   },
   {
    "duration": 5,
    "start_time": "2024-05-17T22:55:52.341Z"
   },
   {
    "duration": 3267,
    "start_time": "2024-05-17T22:55:54.578Z"
   },
   {
    "duration": 5,
    "start_time": "2024-05-17T22:56:18.937Z"
   },
   {
    "duration": 4,
    "start_time": "2024-05-17T22:56:19.198Z"
   },
   {
    "duration": 8,
    "start_time": "2024-05-17T22:56:24.120Z"
   },
   {
    "duration": 52,
    "start_time": "2024-05-17T22:56:24.745Z"
   },
   {
    "duration": 6,
    "start_time": "2024-05-17T22:56:39.914Z"
   },
   {
    "duration": 41,
    "start_time": "2024-05-17T22:56:40.429Z"
   },
   {
    "duration": 6,
    "start_time": "2024-05-17T22:59:56.924Z"
   },
   {
    "duration": 41,
    "start_time": "2024-05-17T22:59:57.702Z"
   },
   {
    "duration": 28,
    "start_time": "2024-05-17T23:12:58.045Z"
   },
   {
    "duration": 4,
    "start_time": "2024-05-17T23:34:54.605Z"
   },
   {
    "duration": 41,
    "start_time": "2024-05-17T23:35:10.748Z"
   },
   {
    "duration": 6,
    "start_time": "2024-05-17T23:37:40.687Z"
   },
   {
    "duration": 5,
    "start_time": "2024-05-17T23:38:05.733Z"
   },
   {
    "duration": 64,
    "start_time": "2024-05-17T23:38:05.940Z"
   },
   {
    "duration": 5,
    "start_time": "2024-05-17T23:38:25.443Z"
   },
   {
    "duration": 59,
    "start_time": "2024-05-17T23:38:25.764Z"
   },
   {
    "duration": 6,
    "start_time": "2024-05-17T23:39:29.254Z"
   },
   {
    "duration": 406,
    "start_time": "2024-05-17T23:39:29.833Z"
   },
   {
    "duration": 6,
    "start_time": "2024-05-17T23:47:21.554Z"
   },
   {
    "duration": 6,
    "start_time": "2024-05-18T00:08:46.730Z"
   },
   {
    "duration": 42,
    "start_time": "2024-05-18T00:09:20.621Z"
   },
   {
    "duration": 311,
    "start_time": "2024-05-18T22:25:39.071Z"
   },
   {
    "duration": 5226,
    "start_time": "2024-05-18T22:25:45.489Z"
   },
   {
    "duration": 3282,
    "start_time": "2024-05-18T22:25:50.718Z"
   },
   {
    "duration": 18,
    "start_time": "2024-05-18T22:25:54.007Z"
   },
   {
    "duration": 21,
    "start_time": "2024-05-18T22:25:54.033Z"
   },
   {
    "duration": 83,
    "start_time": "2024-05-18T22:25:54.057Z"
   },
   {
    "duration": 292,
    "start_time": "2024-05-18T22:25:54.143Z"
   },
   {
    "duration": 8,
    "start_time": "2024-05-18T22:25:54.438Z"
   },
   {
    "duration": 6,
    "start_time": "2024-05-18T22:25:54.449Z"
   },
   {
    "duration": 20,
    "start_time": "2024-05-18T22:25:54.458Z"
   },
   {
    "duration": 56,
    "start_time": "2024-05-18T22:25:54.484Z"
   },
   {
    "duration": 19,
    "start_time": "2024-05-18T22:25:54.544Z"
   },
   {
    "duration": 82,
    "start_time": "2024-05-18T22:25:54.566Z"
   },
   {
    "duration": 238,
    "start_time": "2024-05-18T22:25:54.651Z"
   },
   {
    "duration": 7,
    "start_time": "2024-05-18T22:25:54.892Z"
   },
   {
    "duration": 31,
    "start_time": "2024-05-18T22:25:54.902Z"
   },
   {
    "duration": 8,
    "start_time": "2024-05-18T22:25:54.935Z"
   },
   {
    "duration": 7,
    "start_time": "2024-05-18T22:25:54.946Z"
   },
   {
    "duration": 12,
    "start_time": "2024-05-18T22:25:54.956Z"
   },
   {
    "duration": 61,
    "start_time": "2024-05-18T22:25:54.971Z"
   },
   {
    "duration": 68,
    "start_time": "2024-05-18T22:25:55.035Z"
   },
   {
    "duration": 290,
    "start_time": "2024-05-18T22:25:55.106Z"
   },
   {
    "duration": 7,
    "start_time": "2024-05-18T22:25:55.398Z"
   },
   {
    "duration": 24,
    "start_time": "2024-05-18T22:25:55.408Z"
   },
   {
    "duration": 8,
    "start_time": "2024-05-18T22:25:55.435Z"
   },
   {
    "duration": 11,
    "start_time": "2024-05-18T22:25:55.446Z"
   },
   {
    "duration": 5,
    "start_time": "2024-05-18T22:25:55.460Z"
   },
   {
    "duration": 7,
    "start_time": "2024-05-18T22:25:55.469Z"
   },
   {
    "duration": 5,
    "start_time": "2024-05-18T22:25:55.531Z"
   },
   {
    "duration": 13,
    "start_time": "2024-05-18T22:25:55.540Z"
   },
   {
    "duration": 41,
    "start_time": "2024-05-18T22:25:55.555Z"
   },
   {
    "duration": 33,
    "start_time": "2024-05-18T22:25:55.599Z"
   },
   {
    "duration": 41,
    "start_time": "2024-05-18T22:25:55.635Z"
   },
   {
    "duration": 54,
    "start_time": "2024-05-18T22:25:55.679Z"
   },
   {
    "duration": 7,
    "start_time": "2024-05-18T22:25:55.739Z"
   },
   {
    "duration": 3,
    "start_time": "2024-05-18T22:25:58.497Z"
   },
   {
    "duration": 4,
    "start_time": "2024-05-18T22:25:59.005Z"
   },
   {
    "duration": 136,
    "start_time": "2024-05-18T22:26:20.495Z"
   },
   {
    "duration": 5,
    "start_time": "2024-05-18T22:26:25.177Z"
   },
   {
    "duration": 23,
    "start_time": "2024-05-18T22:26:26.038Z"
   },
   {
    "duration": 5,
    "start_time": "2024-05-18T22:26:30.630Z"
   },
   {
    "duration": 23,
    "start_time": "2024-05-18T22:26:31.469Z"
   },
   {
    "duration": 7,
    "start_time": "2024-05-18T22:27:03.135Z"
   },
   {
    "duration": 24,
    "start_time": "2024-05-18T22:27:14.428Z"
   },
   {
    "duration": 22,
    "start_time": "2024-05-18T22:27:37.141Z"
   },
   {
    "duration": 23,
    "start_time": "2024-05-18T22:28:02.818Z"
   },
   {
    "duration": 35,
    "start_time": "2024-05-18T22:35:14.571Z"
   },
   {
    "duration": 29,
    "start_time": "2024-05-18T22:35:34.110Z"
   },
   {
    "duration": 5,
    "start_time": "2024-05-18T22:47:56.632Z"
   },
   {
    "duration": 5,
    "start_time": "2024-05-18T22:48:04.284Z"
   },
   {
    "duration": 25,
    "start_time": "2024-05-18T22:48:41.301Z"
   },
   {
    "duration": 20,
    "start_time": "2024-05-18T22:49:09.796Z"
   },
   {
    "duration": 603,
    "start_time": "2024-05-18T22:57:33.142Z"
   },
   {
    "duration": 103,
    "start_time": "2024-05-18T23:03:22.630Z"
   },
   {
    "duration": 10,
    "start_time": "2024-05-18T23:04:25.994Z"
   },
   {
    "duration": 16,
    "start_time": "2024-05-18T23:10:31.110Z"
   },
   {
    "duration": 16,
    "start_time": "2024-05-18T23:11:45.993Z"
   },
   {
    "duration": 1335,
    "start_time": "2024-05-18T23:30:38.346Z"
   },
   {
    "duration": 50,
    "start_time": "2024-05-18T23:30:39.685Z"
   },
   {
    "duration": 11,
    "start_time": "2024-05-18T23:31:14.677Z"
   },
   {
    "duration": 1313,
    "start_time": "2024-05-18T23:31:26.339Z"
   },
   {
    "duration": 7,
    "start_time": "2024-05-18T23:36:43.088Z"
   },
   {
    "duration": 44,
    "start_time": "2024-05-18T23:36:44.198Z"
   },
   {
    "duration": 6,
    "start_time": "2024-05-18T23:36:55.114Z"
   },
   {
    "duration": 43,
    "start_time": "2024-05-18T23:37:18.561Z"
   },
   {
    "duration": 7,
    "start_time": "2024-05-18T23:37:53.540Z"
   },
   {
    "duration": 44,
    "start_time": "2024-05-18T23:37:54.160Z"
   },
   {
    "duration": 9,
    "start_time": "2024-05-18T23:38:17.899Z"
   },
   {
    "duration": 46,
    "start_time": "2024-05-18T23:38:18.365Z"
   },
   {
    "duration": 8,
    "start_time": "2024-05-18T23:43:26.763Z"
   },
   {
    "duration": 43,
    "start_time": "2024-05-18T23:43:27.300Z"
   },
   {
    "duration": 9,
    "start_time": "2024-05-18T23:48:39.481Z"
   },
   {
    "duration": 661,
    "start_time": "2024-05-18T23:48:40.510Z"
   },
   {
    "duration": 5250,
    "start_time": "2024-05-19T20:50:15.472Z"
   },
   {
    "duration": 3220,
    "start_time": "2024-05-19T20:50:20.726Z"
   },
   {
    "duration": 19,
    "start_time": "2024-05-19T20:50:23.948Z"
   },
   {
    "duration": 23,
    "start_time": "2024-05-19T20:50:23.971Z"
   },
   {
    "duration": 94,
    "start_time": "2024-05-19T20:50:23.998Z"
   },
   {
    "duration": 316,
    "start_time": "2024-05-19T20:50:24.096Z"
   },
   {
    "duration": 21,
    "start_time": "2024-05-19T20:50:24.416Z"
   },
   {
    "duration": 7,
    "start_time": "2024-05-19T20:50:24.440Z"
   },
   {
    "duration": 20,
    "start_time": "2024-05-19T20:50:24.453Z"
   },
   {
    "duration": 54,
    "start_time": "2024-05-19T20:50:24.477Z"
   },
   {
    "duration": 20,
    "start_time": "2024-05-19T20:50:24.534Z"
   },
   {
    "duration": 93,
    "start_time": "2024-05-19T20:50:24.558Z"
   },
   {
    "duration": 246,
    "start_time": "2024-05-19T20:50:24.654Z"
   },
   {
    "duration": 28,
    "start_time": "2024-05-19T20:50:24.903Z"
   },
   {
    "duration": 7,
    "start_time": "2024-05-19T20:50:24.935Z"
   },
   {
    "duration": 10,
    "start_time": "2024-05-19T20:50:24.949Z"
   },
   {
    "duration": 8,
    "start_time": "2024-05-19T20:50:24.966Z"
   },
   {
    "duration": 15,
    "start_time": "2024-05-19T20:50:25.052Z"
   },
   {
    "duration": 20,
    "start_time": "2024-05-19T20:50:25.217Z"
   },
   {
    "duration": 66,
    "start_time": "2024-05-19T20:50:25.403Z"
   },
   {
    "duration": 315,
    "start_time": "2024-05-19T20:50:25.945Z"
   },
   {
    "duration": 8,
    "start_time": "2024-05-19T20:50:26.265Z"
   },
   {
    "duration": 8,
    "start_time": "2024-05-19T20:50:26.277Z"
   },
   {
    "duration": 7,
    "start_time": "2024-05-19T20:50:26.747Z"
   },
   {
    "duration": 10,
    "start_time": "2024-05-19T20:50:27.242Z"
   },
   {
    "duration": 6,
    "start_time": "2024-05-19T20:50:27.455Z"
   },
   {
    "duration": 6,
    "start_time": "2024-05-19T20:50:27.809Z"
   },
   {
    "duration": 5,
    "start_time": "2024-05-19T20:50:28.620Z"
   },
   {
    "duration": 11,
    "start_time": "2024-05-19T20:50:35.720Z"
   },
   {
    "duration": 38,
    "start_time": "2024-05-19T20:50:37.087Z"
   },
   {
    "duration": 4,
    "start_time": "2024-05-19T20:50:38.970Z"
   },
   {
    "duration": 29,
    "start_time": "2024-05-19T20:50:40.009Z"
   },
   {
    "duration": 23,
    "start_time": "2024-05-19T20:50:41.173Z"
   },
   {
    "duration": 7,
    "start_time": "2024-05-19T20:50:46.976Z"
   },
   {
    "duration": 5,
    "start_time": "2024-05-19T20:50:49.857Z"
   },
   {
    "duration": 5,
    "start_time": "2024-05-19T20:50:50.572Z"
   },
   {
    "duration": 21,
    "start_time": "2024-05-19T20:53:09.171Z"
   },
   {
    "duration": 13,
    "start_time": "2024-05-19T21:25:49.054Z"
   },
   {
    "duration": 1306,
    "start_time": "2024-05-19T21:25:50.393Z"
   },
   {
    "duration": 34,
    "start_time": "2024-05-19T21:26:43.079Z"
   },
   {
    "duration": 171,
    "start_time": "2024-05-19T21:26:51.116Z"
   },
   {
    "duration": 174,
    "start_time": "2024-05-19T21:27:23.225Z"
   },
   {
    "duration": 8,
    "start_time": "2024-05-19T21:35:19.853Z"
   },
   {
    "duration": 25,
    "start_time": "2024-05-19T21:35:20.259Z"
   },
   {
    "duration": 619,
    "start_time": "2024-05-19T21:35:28.873Z"
   },
   {
    "duration": 8,
    "start_time": "2024-05-19T21:36:04.052Z"
   },
   {
    "duration": 483,
    "start_time": "2024-05-19T21:36:04.392Z"
   },
   {
    "duration": 23,
    "start_time": "2024-05-19T21:38:03.044Z"
   },
   {
    "duration": 23,
    "start_time": "2024-05-19T21:38:11.498Z"
   },
   {
    "duration": 10,
    "start_time": "2024-05-19T21:38:48.675Z"
   },
   {
    "duration": 24,
    "start_time": "2024-05-19T21:39:12.361Z"
   },
   {
    "duration": 8,
    "start_time": "2024-05-19T21:39:20.067Z"
   },
   {
    "duration": 6,
    "start_time": "2024-05-19T21:39:40.966Z"
   },
   {
    "duration": 3,
    "start_time": "2024-05-19T21:40:42.519Z"
   },
   {
    "duration": 46,
    "start_time": "2024-05-19T21:40:52.867Z"
   },
   {
    "duration": 9,
    "start_time": "2024-05-19T21:41:03.902Z"
   },
   {
    "duration": 8,
    "start_time": "2024-05-19T21:48:53.308Z"
   },
   {
    "duration": 9,
    "start_time": "2024-05-19T21:49:23.034Z"
   },
   {
    "duration": 211,
    "start_time": "2024-05-19T21:49:23.650Z"
   },
   {
    "duration": 240,
    "start_time": "2024-05-19T21:49:31.150Z"
   },
   {
    "duration": 311,
    "start_time": "2024-05-19T23:27:28.962Z"
   },
   {
    "duration": 5068,
    "start_time": "2024-05-19T23:27:38.458Z"
   },
   {
    "duration": 3458,
    "start_time": "2024-05-19T23:27:43.529Z"
   },
   {
    "duration": 21,
    "start_time": "2024-05-19T23:27:46.990Z"
   },
   {
    "duration": 20,
    "start_time": "2024-05-19T23:27:47.016Z"
   },
   {
    "duration": 99,
    "start_time": "2024-05-19T23:27:47.039Z"
   },
   {
    "duration": 374,
    "start_time": "2024-05-19T23:27:47.141Z"
   },
   {
    "duration": 8,
    "start_time": "2024-05-19T23:27:47.518Z"
   },
   {
    "duration": 7,
    "start_time": "2024-05-19T23:27:47.529Z"
   },
   {
    "duration": 18,
    "start_time": "2024-05-19T23:27:47.539Z"
   },
   {
    "duration": 13,
    "start_time": "2024-05-19T23:27:47.605Z"
   },
   {
    "duration": 19,
    "start_time": "2024-05-19T23:27:47.622Z"
   },
   {
    "duration": 91,
    "start_time": "2024-05-19T23:27:47.643Z"
   },
   {
    "duration": 233,
    "start_time": "2024-05-19T23:27:47.737Z"
   },
   {
    "duration": 8,
    "start_time": "2024-05-19T23:27:47.973Z"
   },
   {
    "duration": 24,
    "start_time": "2024-05-19T23:27:47.983Z"
   },
   {
    "duration": 6,
    "start_time": "2024-05-19T23:27:48.010Z"
   },
   {
    "duration": 7,
    "start_time": "2024-05-19T23:27:48.019Z"
   },
   {
    "duration": 13,
    "start_time": "2024-05-19T23:27:48.029Z"
   },
   {
    "duration": 71,
    "start_time": "2024-05-19T23:27:48.045Z"
   },
   {
    "duration": 61,
    "start_time": "2024-05-19T23:27:48.119Z"
   },
   {
    "duration": 295,
    "start_time": "2024-05-19T23:27:48.206Z"
   },
   {
    "duration": 6,
    "start_time": "2024-05-19T23:27:48.505Z"
   },
   {
    "duration": 7,
    "start_time": "2024-05-19T23:27:48.514Z"
   },
   {
    "duration": 7,
    "start_time": "2024-05-19T23:27:48.524Z"
   },
   {
    "duration": 9,
    "start_time": "2024-05-19T23:27:48.534Z"
   },
   {
    "duration": 55,
    "start_time": "2024-05-19T23:27:48.547Z"
   },
   {
    "duration": 7,
    "start_time": "2024-05-19T23:27:48.605Z"
   },
   {
    "duration": 7,
    "start_time": "2024-05-19T23:27:48.621Z"
   },
   {
    "duration": 13,
    "start_time": "2024-05-19T23:27:48.631Z"
   },
   {
    "duration": 77,
    "start_time": "2024-05-19T23:27:48.647Z"
   },
   {
    "duration": 3,
    "start_time": "2024-05-19T23:27:48.727Z"
   },
   {
    "duration": 29,
    "start_time": "2024-05-19T23:27:48.733Z"
   },
   {
    "duration": 50,
    "start_time": "2024-05-19T23:27:48.765Z"
   },
   {
    "duration": 83,
    "start_time": "2024-05-19T23:27:48.818Z"
   },
   {
    "duration": 5,
    "start_time": "2024-05-19T23:27:48.910Z"
   },
   {
    "duration": 79,
    "start_time": "2024-05-19T23:27:48.923Z"
   },
   {
    "duration": 17,
    "start_time": "2024-05-19T23:27:49.005Z"
   },
   {
    "duration": 6,
    "start_time": "2024-05-19T23:27:53.505Z"
   },
   {
    "duration": 6,
    "start_time": "2024-05-19T23:28:09.311Z"
   },
   {
    "duration": 127,
    "start_time": "2024-05-19T23:28:22.823Z"
   },
   {
    "duration": 5,
    "start_time": "2024-05-19T23:28:31.298Z"
   },
   {
    "duration": 8,
    "start_time": "2024-05-19T23:35:43.757Z"
   },
   {
    "duration": 9,
    "start_time": "2024-05-19T23:37:32.737Z"
   },
   {
    "duration": 3074,
    "start_time": "2024-05-19T23:37:33.778Z"
   },
   {
    "duration": 13,
    "start_time": "2024-05-19T23:37:36.857Z"
   },
   {
    "duration": 31,
    "start_time": "2024-05-19T23:37:36.873Z"
   },
   {
    "duration": 57,
    "start_time": "2024-05-19T23:37:36.908Z"
   },
   {
    "duration": 271,
    "start_time": "2024-05-19T23:37:38.270Z"
   },
   {
    "duration": 6,
    "start_time": "2024-05-19T23:37:39.267Z"
   },
   {
    "duration": 7,
    "start_time": "2024-05-19T23:37:39.432Z"
   },
   {
    "duration": 17,
    "start_time": "2024-05-19T23:37:39.575Z"
   },
   {
    "duration": 13,
    "start_time": "2024-05-19T23:37:39.849Z"
   },
   {
    "duration": 17,
    "start_time": "2024-05-19T23:37:39.993Z"
   },
   {
    "duration": 54,
    "start_time": "2024-05-19T23:37:40.133Z"
   },
   {
    "duration": 221,
    "start_time": "2024-05-19T23:37:40.416Z"
   },
   {
    "duration": 7,
    "start_time": "2024-05-19T23:37:40.641Z"
   },
   {
    "duration": 7,
    "start_time": "2024-05-19T23:37:41.063Z"
   },
   {
    "duration": 7,
    "start_time": "2024-05-19T23:37:41.101Z"
   },
   {
    "duration": 7,
    "start_time": "2024-05-19T23:37:41.130Z"
   },
   {
    "duration": 12,
    "start_time": "2024-05-19T23:37:41.197Z"
   },
   {
    "duration": 17,
    "start_time": "2024-05-19T23:37:41.235Z"
   },
   {
    "duration": 61,
    "start_time": "2024-05-19T23:37:41.258Z"
   },
   {
    "duration": 395,
    "start_time": "2024-05-19T23:37:41.327Z"
   },
   {
    "duration": 7,
    "start_time": "2024-05-19T23:37:41.725Z"
   },
   {
    "duration": 8,
    "start_time": "2024-05-19T23:37:41.735Z"
   },
   {
    "duration": 7,
    "start_time": "2024-05-19T23:37:41.747Z"
   },
   {
    "duration": 50,
    "start_time": "2024-05-19T23:37:41.757Z"
   },
   {
    "duration": 6,
    "start_time": "2024-05-19T23:37:41.810Z"
   },
   {
    "duration": 7,
    "start_time": "2024-05-19T23:37:41.819Z"
   },
   {
    "duration": 5,
    "start_time": "2024-05-19T23:37:41.829Z"
   },
   {
    "duration": 11,
    "start_time": "2024-05-19T23:37:41.837Z"
   },
   {
    "duration": 36,
    "start_time": "2024-05-19T23:37:41.901Z"
   },
   {
    "duration": 4,
    "start_time": "2024-05-19T23:37:41.941Z"
   },
   {
    "duration": 26,
    "start_time": "2024-05-19T23:37:41.948Z"
   },
   {
    "duration": 22,
    "start_time": "2024-05-19T23:37:42.004Z"
   },
   {
    "duration": 6,
    "start_time": "2024-05-19T23:37:45.086Z"
   },
   {
    "duration": 3,
    "start_time": "2024-05-19T23:37:45.732Z"
   },
   {
    "duration": 4,
    "start_time": "2024-05-19T23:37:46.385Z"
   },
   {
    "duration": 17,
    "start_time": "2024-05-19T23:37:47.171Z"
   },
   {
    "duration": 5,
    "start_time": "2024-05-19T23:37:50.321Z"
   },
   {
    "duration": 6,
    "start_time": "2024-05-19T23:37:50.685Z"
   },
   {
    "duration": 7,
    "start_time": "2024-05-19T23:37:55.333Z"
   },
   {
    "duration": 333,
    "start_time": "2024-05-19T23:38:08.990Z"
   },
   {
    "duration": 1458,
    "start_time": "2024-05-19T23:38:21.158Z"
   },
   {
    "duration": 2812,
    "start_time": "2024-05-19T23:38:22.619Z"
   },
   {
    "duration": 18,
    "start_time": "2024-05-19T23:38:25.434Z"
   },
   {
    "duration": 21,
    "start_time": "2024-05-19T23:38:25.457Z"
   },
   {
    "duration": 59,
    "start_time": "2024-05-19T23:38:27.240Z"
   },
   {
    "duration": 311,
    "start_time": "2024-05-19T23:38:27.803Z"
   },
   {
    "duration": 7,
    "start_time": "2024-05-19T23:38:28.118Z"
   },
   {
    "duration": 6,
    "start_time": "2024-05-19T23:38:28.128Z"
   },
   {
    "duration": 21,
    "start_time": "2024-05-19T23:38:28.138Z"
   },
   {
    "duration": 51,
    "start_time": "2024-05-19T23:38:28.161Z"
   },
   {
    "duration": 22,
    "start_time": "2024-05-19T23:38:28.215Z"
   },
   {
    "duration": 93,
    "start_time": "2024-05-19T23:38:28.240Z"
   },
   {
    "duration": 236,
    "start_time": "2024-05-19T23:38:28.336Z"
   },
   {
    "duration": 26,
    "start_time": "2024-05-19T23:38:28.575Z"
   },
   {
    "duration": 7,
    "start_time": "2024-05-19T23:38:28.606Z"
   },
   {
    "duration": 7,
    "start_time": "2024-05-19T23:38:28.616Z"
   },
   {
    "duration": 7,
    "start_time": "2024-05-19T23:38:28.626Z"
   },
   {
    "duration": 12,
    "start_time": "2024-05-19T23:38:28.636Z"
   },
   {
    "duration": 66,
    "start_time": "2024-05-19T23:38:28.652Z"
   },
   {
    "duration": 58,
    "start_time": "2024-05-19T23:38:28.720Z"
   },
   {
    "duration": 291,
    "start_time": "2024-05-19T23:38:28.800Z"
   },
   {
    "duration": 12,
    "start_time": "2024-05-19T23:38:29.095Z"
   },
   {
    "duration": 7,
    "start_time": "2024-05-19T23:38:29.110Z"
   },
   {
    "duration": 8,
    "start_time": "2024-05-19T23:38:29.120Z"
   },
   {
    "duration": 10,
    "start_time": "2024-05-19T23:38:29.130Z"
   },
   {
    "duration": 58,
    "start_time": "2024-05-19T23:38:29.146Z"
   },
   {
    "duration": 5,
    "start_time": "2024-05-19T23:38:29.219Z"
   },
   {
    "duration": 7,
    "start_time": "2024-05-19T23:38:29.365Z"
   },
   {
    "duration": 11,
    "start_time": "2024-05-19T23:38:29.986Z"
   },
   {
    "duration": 45,
    "start_time": "2024-05-19T23:38:30.009Z"
   },
   {
    "duration": 5,
    "start_time": "2024-05-19T23:38:30.064Z"
   },
   {
    "duration": 33,
    "start_time": "2024-05-19T23:38:30.105Z"
   },
   {
    "duration": 22,
    "start_time": "2024-05-19T23:38:30.532Z"
   },
   {
    "duration": 7,
    "start_time": "2024-05-19T23:38:33.370Z"
   },
   {
    "duration": 4,
    "start_time": "2024-05-19T23:38:34.352Z"
   },
   {
    "duration": 5,
    "start_time": "2024-05-19T23:38:34.634Z"
   },
   {
    "duration": 16,
    "start_time": "2024-05-19T23:38:35.423Z"
   },
   {
    "duration": 5,
    "start_time": "2024-05-19T23:38:40.330Z"
   },
   {
    "duration": 5,
    "start_time": "2024-05-19T23:38:40.874Z"
   },
   {
    "duration": 8,
    "start_time": "2024-05-19T23:38:42.068Z"
   },
   {
    "duration": 0,
    "start_time": "2024-05-19T23:40:14.065Z"
   },
   {
    "duration": 0,
    "start_time": "2024-05-19T23:40:14.068Z"
   },
   {
    "duration": 0,
    "start_time": "2024-05-19T23:40:14.070Z"
   },
   {
    "duration": 7,
    "start_time": "2024-05-19T23:46:34.928Z"
   },
   {
    "duration": 1636,
    "start_time": "2024-05-19T23:46:35.280Z"
   },
   {
    "duration": 5140,
    "start_time": "2024-05-20T22:10:20.194Z"
   },
   {
    "duration": 3586,
    "start_time": "2024-05-20T22:10:25.337Z"
   },
   {
    "duration": 18,
    "start_time": "2024-05-20T22:10:28.927Z"
   },
   {
    "duration": 20,
    "start_time": "2024-05-20T22:10:28.951Z"
   },
   {
    "duration": 96,
    "start_time": "2024-05-20T22:10:28.975Z"
   },
   {
    "duration": 322,
    "start_time": "2024-05-20T22:10:29.074Z"
   },
   {
    "duration": 15,
    "start_time": "2024-05-20T22:10:29.399Z"
   },
   {
    "duration": 7,
    "start_time": "2024-05-20T22:10:29.417Z"
   },
   {
    "duration": 18,
    "start_time": "2024-05-20T22:10:29.428Z"
   },
   {
    "duration": 12,
    "start_time": "2024-05-20T22:10:29.451Z"
   },
   {
    "duration": 60,
    "start_time": "2024-05-20T22:10:29.466Z"
   },
   {
    "duration": 55,
    "start_time": "2024-05-20T22:10:29.529Z"
   },
   {
    "duration": 226,
    "start_time": "2024-05-20T22:10:29.612Z"
   },
   {
    "duration": 7,
    "start_time": "2024-05-20T22:10:29.841Z"
   },
   {
    "duration": 8,
    "start_time": "2024-05-20T22:10:29.851Z"
   },
   {
    "duration": 7,
    "start_time": "2024-05-20T22:10:29.862Z"
   },
   {
    "duration": 43,
    "start_time": "2024-05-20T22:10:29.873Z"
   },
   {
    "duration": 12,
    "start_time": "2024-05-20T22:10:29.919Z"
   },
   {
    "duration": 18,
    "start_time": "2024-05-20T22:10:29.935Z"
   },
   {
    "duration": 97,
    "start_time": "2024-05-20T22:10:29.956Z"
   },
   {
    "duration": 350,
    "start_time": "2024-05-20T22:10:30.055Z"
   },
   {
    "duration": 7,
    "start_time": "2024-05-20T22:10:30.413Z"
   },
   {
    "duration": 8,
    "start_time": "2024-05-20T22:10:30.425Z"
   },
   {
    "duration": 7,
    "start_time": "2024-05-20T22:10:30.436Z"
   },
   {
    "duration": 10,
    "start_time": "2024-05-20T22:10:30.446Z"
   },
   {
    "duration": 54,
    "start_time": "2024-05-20T22:10:30.460Z"
   },
   {
    "duration": 6,
    "start_time": "2024-05-20T22:10:30.518Z"
   },
   {
    "duration": 5,
    "start_time": "2024-05-20T22:10:30.534Z"
   },
   {
    "duration": 12,
    "start_time": "2024-05-20T22:10:30.542Z"
   },
   {
    "duration": 92,
    "start_time": "2024-05-20T22:10:30.557Z"
   },
   {
    "duration": 5,
    "start_time": "2024-05-20T22:10:30.653Z"
   },
   {
    "duration": 57,
    "start_time": "2024-05-20T22:10:30.662Z"
   },
   {
    "duration": 89,
    "start_time": "2024-05-20T22:10:30.723Z"
   },
   {
    "duration": 7,
    "start_time": "2024-05-20T22:10:30.815Z"
   },
   {
    "duration": 6,
    "start_time": "2024-05-20T22:10:30.827Z"
   },
   {
    "duration": 76,
    "start_time": "2024-05-20T22:10:30.838Z"
   },
   {
    "duration": 20,
    "start_time": "2024-05-20T22:10:30.918Z"
   },
   {
    "duration": 8,
    "start_time": "2024-05-20T22:10:30.942Z"
   },
   {
    "duration": 12,
    "start_time": "2024-05-20T22:10:30.962Z"
   },
   {
    "duration": 38,
    "start_time": "2024-05-20T22:10:30.977Z"
   },
   {
    "duration": 16,
    "start_time": "2024-05-20T22:12:35.534Z"
   },
   {
    "duration": 6,
    "start_time": "2024-05-20T22:12:36.900Z"
   },
   {
    "duration": 5,
    "start_time": "2024-05-20T22:12:37.495Z"
   },
   {
    "duration": 9,
    "start_time": "2024-05-20T22:12:39.840Z"
   },
   {
    "duration": 10,
    "start_time": "2024-05-20T22:14:39.418Z"
   },
   {
    "duration": 96704,
    "start_time": "2024-05-20T22:14:42.320Z"
   },
   {
    "duration": 0,
    "start_time": "2024-05-20T22:16:19.027Z"
   },
   {
    "duration": 8,
    "start_time": "2024-05-20T22:27:14.464Z"
   },
   {
    "duration": 1590,
    "start_time": "2024-05-20T22:27:17.641Z"
   },
   {
    "duration": 8,
    "start_time": "2024-05-20T22:29:16.121Z"
   },
   {
    "duration": 3,
    "start_time": "2024-05-20T22:37:56.786Z"
   },
   {
    "duration": 5,
    "start_time": "2024-05-20T22:37:57.170Z"
   },
   {
    "duration": 16,
    "start_time": "2024-05-20T22:38:39.297Z"
   },
   {
    "duration": 7,
    "start_time": "2024-05-20T22:39:40.742Z"
   },
   {
    "duration": 2051,
    "start_time": "2024-05-20T22:41:33.452Z"
   },
   {
    "duration": 6,
    "start_time": "2024-05-20T22:42:46.627Z"
   },
   {
    "duration": 7,
    "start_time": "2024-05-20T22:52:17.834Z"
   },
   {
    "duration": 64,
    "start_time": "2024-05-20T22:52:33.307Z"
   },
   {
    "duration": 8,
    "start_time": "2024-05-20T22:53:24.967Z"
   },
   {
    "duration": 7,
    "start_time": "2024-05-20T22:54:02.832Z"
   },
   {
    "duration": 7,
    "start_time": "2024-05-20T22:54:14.271Z"
   },
   {
    "duration": 6,
    "start_time": "2024-05-20T23:02:20.057Z"
   },
   {
    "duration": 37,
    "start_time": "2024-05-20T23:02:58.918Z"
   },
   {
    "duration": 47,
    "start_time": "2024-05-20T23:03:06.351Z"
   },
   {
    "duration": 6,
    "start_time": "2024-05-20T23:08:59.174Z"
   },
   {
    "duration": 146,
    "start_time": "2024-05-20T23:08:59.885Z"
   },
   {
    "duration": 5,
    "start_time": "2024-05-20T23:09:12.794Z"
   },
   {
    "duration": 56,
    "start_time": "2024-05-20T23:09:13.413Z"
   },
   {
    "duration": 11,
    "start_time": "2024-05-20T23:11:54.026Z"
   },
   {
    "duration": 52,
    "start_time": "2024-05-20T23:11:56.219Z"
   },
   {
    "duration": 10,
    "start_time": "2024-05-20T23:12:20.715Z"
   },
   {
    "duration": 72,
    "start_time": "2024-05-20T23:12:21.274Z"
   },
   {
    "duration": 6,
    "start_time": "2024-05-20T23:12:50.441Z"
   },
   {
    "duration": 63,
    "start_time": "2024-05-20T23:12:53.186Z"
   },
   {
    "duration": 6,
    "start_time": "2024-05-20T23:17:07.387Z"
   },
   {
    "duration": 25,
    "start_time": "2024-05-20T23:17:32.414Z"
   },
   {
    "duration": 36,
    "start_time": "2024-05-20T23:17:38.354Z"
   },
   {
    "duration": 28,
    "start_time": "2024-05-20T23:18:18.730Z"
   },
   {
    "duration": 28,
    "start_time": "2024-05-20T23:18:22.862Z"
   },
   {
    "duration": 26,
    "start_time": "2024-05-20T23:18:28.773Z"
   },
   {
    "duration": 5,
    "start_time": "2024-05-20T23:18:50.778Z"
   },
   {
    "duration": 21,
    "start_time": "2024-05-20T23:19:05.714Z"
   },
   {
    "duration": 5,
    "start_time": "2024-05-20T23:19:19.359Z"
   },
   {
    "duration": 12,
    "start_time": "2024-05-20T23:19:35.359Z"
   },
   {
    "duration": 7,
    "start_time": "2024-05-20T23:25:23.946Z"
   },
   {
    "duration": 558,
    "start_time": "2024-05-20T23:25:24.700Z"
   },
   {
    "duration": 68,
    "start_time": "2024-05-20T23:34:52.345Z"
   },
   {
    "duration": 494,
    "start_time": "2024-05-20T23:38:38.549Z"
   },
   {
    "duration": 9,
    "start_time": "2024-05-20T23:38:58.872Z"
   },
   {
    "duration": 921,
    "start_time": "2024-05-20T23:39:19.964Z"
   },
   {
    "duration": 6,
    "start_time": "2024-05-20T23:48:25.320Z"
   },
   {
    "duration": 10,
    "start_time": "2024-05-20T23:48:36.855Z"
   },
   {
    "duration": 8,
    "start_time": "2024-05-20T23:49:30.072Z"
   },
   {
    "duration": 6,
    "start_time": "2024-05-20T23:51:01.246Z"
   },
   {
    "duration": 163,
    "start_time": "2024-05-20T23:51:02.388Z"
   },
   {
    "duration": 7,
    "start_time": "2024-05-20T23:51:33.379Z"
   },
   {
    "duration": 91,
    "start_time": "2024-05-20T23:51:33.946Z"
   },
   {
    "duration": 7,
    "start_time": "2024-05-20T23:53:13.198Z"
   },
   {
    "duration": 94,
    "start_time": "2024-05-20T23:53:13.567Z"
   },
   {
    "duration": 100,
    "start_time": "2024-05-20T23:53:44.423Z"
   },
   {
    "duration": 9,
    "start_time": "2024-05-20T23:56:21.809Z"
   },
   {
    "duration": 7,
    "start_time": "2024-05-20T23:59:29.152Z"
   },
   {
    "duration": 31,
    "start_time": "2024-05-20T23:59:32.382Z"
   },
   {
    "duration": 7,
    "start_time": "2024-05-20T23:59:48.147Z"
   },
   {
    "duration": 44,
    "start_time": "2024-05-20T23:59:48.713Z"
   },
   {
    "duration": 9,
    "start_time": "2024-05-21T00:00:48.979Z"
   },
   {
    "duration": 63,
    "start_time": "2024-05-21T00:00:50.130Z"
   },
   {
    "duration": 8,
    "start_time": "2024-05-21T00:02:13.065Z"
   },
   {
    "duration": 41,
    "start_time": "2024-05-21T00:02:13.468Z"
   },
   {
    "duration": 8,
    "start_time": "2024-05-21T00:02:55.833Z"
   },
   {
    "duration": 111,
    "start_time": "2024-05-21T00:02:56.276Z"
   },
   {
    "duration": 87,
    "start_time": "2024-05-21T00:03:26.806Z"
   },
   {
    "duration": 7,
    "start_time": "2024-05-21T00:06:04.767Z"
   },
   {
    "duration": 25,
    "start_time": "2024-05-21T00:06:21.518Z"
   },
   {
    "duration": 9,
    "start_time": "2024-05-21T00:06:28.468Z"
   },
   {
    "duration": 68,
    "start_time": "2024-05-21T00:06:29.024Z"
   },
   {
    "duration": 38,
    "start_time": "2024-05-21T00:06:46.292Z"
   },
   {
    "duration": 7,
    "start_time": "2024-05-21T00:07:39.799Z"
   },
   {
    "duration": 1051,
    "start_time": "2024-05-21T00:07:40.577Z"
   },
   {
    "duration": 1264,
    "start_time": "2024-05-21T00:08:14.700Z"
   },
   {
    "duration": 1077,
    "start_time": "2024-05-21T00:08:28.681Z"
   },
   {
    "duration": 1043,
    "start_time": "2024-05-21T00:08:40.734Z"
   },
   {
    "duration": 999,
    "start_time": "2024-05-21T00:09:27.234Z"
   },
   {
    "duration": 1000,
    "start_time": "2024-05-21T00:09:36.859Z"
   },
   {
    "duration": 921,
    "start_time": "2024-05-21T00:11:03.737Z"
   },
   {
    "duration": 959,
    "start_time": "2024-05-21T00:11:12.028Z"
   },
   {
    "duration": 999,
    "start_time": "2024-05-21T00:11:44.977Z"
   },
   {
    "duration": 10,
    "start_time": "2024-05-21T00:12:48.501Z"
   },
   {
    "duration": 6,
    "start_time": "2024-05-21T00:14:22.506Z"
   },
   {
    "duration": 6,
    "start_time": "2024-05-21T00:16:27.305Z"
   },
   {
    "duration": 88,
    "start_time": "2024-05-21T00:16:54.076Z"
   },
   {
    "duration": 87,
    "start_time": "2024-05-21T00:17:47.125Z"
   },
   {
    "duration": 8,
    "start_time": "2024-05-21T00:17:50.282Z"
   },
   {
    "duration": 92,
    "start_time": "2024-05-21T00:17:50.989Z"
   },
   {
    "duration": 7,
    "start_time": "2024-05-21T00:18:16.379Z"
   },
   {
    "duration": 958,
    "start_time": "2024-05-21T00:18:16.954Z"
   },
   {
    "duration": 995,
    "start_time": "2024-05-21T00:18:27.767Z"
   },
   {
    "duration": 958,
    "start_time": "2024-05-21T00:18:48.843Z"
   },
   {
    "duration": 968,
    "start_time": "2024-05-21T00:20:11.244Z"
   },
   {
    "duration": 929,
    "start_time": "2024-05-21T00:20:15.732Z"
   },
   {
    "duration": 939,
    "start_time": "2024-05-21T00:20:40.429Z"
   },
   {
    "duration": 6,
    "start_time": "2024-05-21T00:22:22.030Z"
   },
   {
    "duration": 11,
    "start_time": "2024-05-21T00:22:39.948Z"
   },
   {
    "duration": 5465,
    "start_time": "2024-05-22T07:06:52.118Z"
   },
   {
    "duration": 4118,
    "start_time": "2024-05-22T07:06:57.587Z"
   },
   {
    "duration": 17,
    "start_time": "2024-05-22T07:07:01.707Z"
   },
   {
    "duration": 20,
    "start_time": "2024-05-22T07:07:01.727Z"
   },
   {
    "duration": 83,
    "start_time": "2024-05-22T07:07:01.750Z"
   },
   {
    "duration": 312,
    "start_time": "2024-05-22T07:07:01.836Z"
   },
   {
    "duration": 7,
    "start_time": "2024-05-22T07:07:02.152Z"
   },
   {
    "duration": 8,
    "start_time": "2024-05-22T07:07:02.162Z"
   },
   {
    "duration": 50,
    "start_time": "2024-05-22T07:07:02.173Z"
   },
   {
    "duration": 12,
    "start_time": "2024-05-22T07:07:02.229Z"
   },
   {
    "duration": 20,
    "start_time": "2024-05-22T07:07:02.244Z"
   },
   {
    "duration": 94,
    "start_time": "2024-05-22T07:07:02.267Z"
   },
   {
    "duration": 252,
    "start_time": "2024-05-22T07:07:02.364Z"
   },
   {
    "duration": 8,
    "start_time": "2024-05-22T07:07:02.620Z"
   },
   {
    "duration": 9,
    "start_time": "2024-05-22T07:07:02.631Z"
   },
   {
    "duration": 6,
    "start_time": "2024-05-22T07:07:02.643Z"
   },
   {
    "duration": 7,
    "start_time": "2024-05-22T07:07:02.653Z"
   },
   {
    "duration": 14,
    "start_time": "2024-05-22T07:07:02.706Z"
   },
   {
    "duration": 19,
    "start_time": "2024-05-22T07:07:02.723Z"
   },
   {
    "duration": 103,
    "start_time": "2024-05-22T07:07:02.745Z"
   },
   {
    "duration": 358,
    "start_time": "2024-05-22T07:07:02.851Z"
   },
   {
    "duration": 8,
    "start_time": "2024-05-22T07:07:03.212Z"
   },
   {
    "duration": 6,
    "start_time": "2024-05-22T07:07:03.223Z"
   },
   {
    "duration": 9,
    "start_time": "2024-05-22T07:07:03.232Z"
   },
   {
    "duration": 11,
    "start_time": "2024-05-22T07:07:03.244Z"
   },
   {
    "duration": 51,
    "start_time": "2024-05-22T07:07:03.258Z"
   },
   {
    "duration": 6,
    "start_time": "2024-05-22T07:07:03.312Z"
   },
   {
    "duration": 6,
    "start_time": "2024-05-22T07:07:03.325Z"
   },
   {
    "duration": 14,
    "start_time": "2024-05-22T07:07:03.334Z"
   },
   {
    "duration": 85,
    "start_time": "2024-05-22T07:07:03.351Z"
   },
   {
    "duration": 4,
    "start_time": "2024-05-22T07:07:03.439Z"
   },
   {
    "duration": 50,
    "start_time": "2024-05-22T07:07:03.447Z"
   },
   {
    "duration": 23,
    "start_time": "2024-05-22T07:07:03.505Z"
   },
   {
    "duration": 76,
    "start_time": "2024-05-22T07:07:03.531Z"
   },
   {
    "duration": 3,
    "start_time": "2024-05-22T07:07:03.610Z"
   },
   {
    "duration": 5,
    "start_time": "2024-05-22T07:07:03.620Z"
   },
   {
    "duration": 16,
    "start_time": "2024-05-22T07:07:07.365Z"
   },
   {
    "duration": 6,
    "start_time": "2024-05-22T07:08:13.799Z"
   },
   {
    "duration": 5,
    "start_time": "2024-05-22T07:08:40.051Z"
   },
   {
    "duration": 9,
    "start_time": "2024-05-22T07:09:10.599Z"
   },
   {
    "duration": 6,
    "start_time": "2024-05-22T07:09:45.823Z"
   },
   {
    "duration": 7,
    "start_time": "2024-05-22T07:10:21.292Z"
   },
   {
    "duration": 4,
    "start_time": "2024-05-22T07:11:28.484Z"
   },
   {
    "duration": 8,
    "start_time": "2024-05-22T07:11:41.032Z"
   },
   {
    "duration": 6,
    "start_time": "2024-05-22T07:14:06.894Z"
   },
   {
    "duration": 402,
    "start_time": "2024-05-22T07:14:13.779Z"
   },
   {
    "duration": 22,
    "start_time": "2024-05-22T07:14:20.084Z"
   },
   {
    "duration": 7,
    "start_time": "2024-05-22T07:14:27.448Z"
   },
   {
    "duration": 24,
    "start_time": "2024-05-22T07:14:28.478Z"
   },
   {
    "duration": 4,
    "start_time": "2024-05-22T07:15:52.660Z"
   },
   {
    "duration": 6,
    "start_time": "2024-05-22T07:15:53.571Z"
   },
   {
    "duration": 6,
    "start_time": "2024-05-22T07:16:00.631Z"
   },
   {
    "duration": 23,
    "start_time": "2024-05-22T07:16:02.125Z"
   },
   {
    "duration": 25,
    "start_time": "2024-05-22T07:16:28.516Z"
   },
   {
    "duration": 24,
    "start_time": "2024-05-22T07:16:29.192Z"
   },
   {
    "duration": 24,
    "start_time": "2024-05-22T07:16:29.406Z"
   },
   {
    "duration": 6,
    "start_time": "2024-05-22T07:16:52.741Z"
   },
   {
    "duration": 24,
    "start_time": "2024-05-22T07:16:54.634Z"
   },
   {
    "duration": 24,
    "start_time": "2024-05-22T07:16:55.304Z"
   },
   {
    "duration": 25,
    "start_time": "2024-05-22T07:16:55.692Z"
   },
   {
    "duration": 23,
    "start_time": "2024-05-22T07:17:26.547Z"
   },
   {
    "duration": 22,
    "start_time": "2024-05-22T07:17:44.074Z"
   },
   {
    "duration": 6,
    "start_time": "2024-05-22T07:18:17.817Z"
   },
   {
    "duration": 24,
    "start_time": "2024-05-22T07:18:19.736Z"
   },
   {
    "duration": 23,
    "start_time": "2024-05-22T07:18:20.516Z"
   },
   {
    "duration": 23,
    "start_time": "2024-05-22T07:18:20.991Z"
   },
   {
    "duration": 5167,
    "start_time": "2024-05-22T22:09:11.280Z"
   },
   {
    "duration": 3545,
    "start_time": "2024-05-22T22:09:16.451Z"
   },
   {
    "duration": 32,
    "start_time": "2024-05-22T22:09:19.999Z"
   },
   {
    "duration": 24,
    "start_time": "2024-05-22T22:09:20.035Z"
   },
   {
    "duration": 92,
    "start_time": "2024-05-22T22:09:20.062Z"
   },
   {
    "duration": 421,
    "start_time": "2024-05-22T22:09:20.158Z"
   },
   {
    "duration": 7,
    "start_time": "2024-05-22T22:09:25.002Z"
   },
   {
    "duration": 9,
    "start_time": "2024-05-22T22:09:26.939Z"
   },
   {
    "duration": 26,
    "start_time": "2024-05-22T22:09:27.610Z"
   },
   {
    "duration": 17,
    "start_time": "2024-05-22T22:09:29.416Z"
   },
   {
    "duration": 23,
    "start_time": "2024-05-22T22:09:30.963Z"
   },
   {
    "duration": 63,
    "start_time": "2024-05-22T22:09:31.730Z"
   },
   {
    "duration": 219,
    "start_time": "2024-05-22T22:09:32.127Z"
   },
   {
    "duration": 7,
    "start_time": "2024-05-22T22:09:32.349Z"
   },
   {
    "duration": 7,
    "start_time": "2024-05-22T22:09:32.795Z"
   },
   {
    "duration": 7,
    "start_time": "2024-05-22T22:09:32.811Z"
   },
   {
    "duration": 7,
    "start_time": "2024-05-22T22:09:32.848Z"
   },
   {
    "duration": 13,
    "start_time": "2024-05-22T22:09:32.908Z"
   },
   {
    "duration": 19,
    "start_time": "2024-05-22T22:09:32.935Z"
   },
   {
    "duration": 59,
    "start_time": "2024-05-22T22:09:32.972Z"
   },
   {
    "duration": 331,
    "start_time": "2024-05-22T22:09:33.046Z"
   },
   {
    "duration": 6,
    "start_time": "2024-05-22T22:09:33.381Z"
   },
   {
    "duration": 20,
    "start_time": "2024-05-22T22:09:33.390Z"
   },
   {
    "duration": 7,
    "start_time": "2024-05-22T22:09:33.414Z"
   },
   {
    "duration": 10,
    "start_time": "2024-05-22T22:09:33.424Z"
   },
   {
    "duration": 5,
    "start_time": "2024-05-22T22:09:33.438Z"
   },
   {
    "duration": 5,
    "start_time": "2024-05-22T22:09:33.447Z"
   },
   {
    "duration": 6,
    "start_time": "2024-05-22T22:09:33.659Z"
   },
   {
    "duration": 13,
    "start_time": "2024-05-22T22:09:34.654Z"
   },
   {
    "duration": 51,
    "start_time": "2024-05-22T22:09:34.680Z"
   },
   {
    "duration": 4,
    "start_time": "2024-05-22T22:09:34.742Z"
   },
   {
    "duration": 30,
    "start_time": "2024-05-22T22:09:34.778Z"
   },
   {
    "duration": 23,
    "start_time": "2024-05-22T22:09:35.177Z"
   },
   {
    "duration": 6,
    "start_time": "2024-05-22T22:09:41.336Z"
   },
   {
    "duration": 5,
    "start_time": "2024-05-22T22:09:44.396Z"
   },
   {
    "duration": 4,
    "start_time": "2024-05-22T22:09:44.673Z"
   },
   {
    "duration": 22,
    "start_time": "2024-05-22T22:09:50.305Z"
   },
   {
    "duration": 5,
    "start_time": "2024-05-22T22:19:13.493Z"
   },
   {
    "duration": 5,
    "start_time": "2024-05-22T22:19:17.449Z"
   },
   {
    "duration": 9,
    "start_time": "2024-05-22T22:19:20.641Z"
   },
   {
    "duration": 7,
    "start_time": "2024-05-22T22:19:24.232Z"
   },
   {
    "duration": 6,
    "start_time": "2024-05-22T22:19:28.433Z"
   },
   {
    "duration": 5,
    "start_time": "2024-05-22T22:19:44.606Z"
   },
   {
    "duration": 6,
    "start_time": "2024-05-22T22:23:38.250Z"
   },
   {
    "duration": 440,
    "start_time": "2024-05-22T22:24:32.768Z"
   },
   {
    "duration": 16,
    "start_time": "2024-05-22T22:42:58.711Z"
   },
   {
    "duration": 448,
    "start_time": "2024-05-22T22:43:09.448Z"
   },
   {
    "duration": 8,
    "start_time": "2024-05-22T22:43:35.157Z"
   },
   {
    "duration": 7,
    "start_time": "2024-05-22T22:43:51.226Z"
   },
   {
    "duration": 26,
    "start_time": "2024-05-22T22:44:34.371Z"
   },
   {
    "duration": 8,
    "start_time": "2024-05-22T22:44:43.311Z"
   },
   {
    "duration": 9,
    "start_time": "2024-05-22T22:45:17.683Z"
   },
   {
    "duration": 8,
    "start_time": "2024-05-22T22:45:21.213Z"
   },
   {
    "duration": 8,
    "start_time": "2024-05-22T22:47:02.372Z"
   },
   {
    "duration": 10,
    "start_time": "2024-05-22T22:48:01.657Z"
   },
   {
    "duration": 5,
    "start_time": "2024-05-22T22:48:32.727Z"
   },
   {
    "duration": 9,
    "start_time": "2024-05-22T22:55:04.676Z"
   },
   {
    "duration": 7,
    "start_time": "2024-05-22T22:55:17.241Z"
   },
   {
    "duration": 8,
    "start_time": "2024-05-22T22:55:35.787Z"
   },
   {
    "duration": 8,
    "start_time": "2024-05-22T23:10:28.694Z"
   },
   {
    "duration": 6,
    "start_time": "2024-05-22T23:10:40.375Z"
   },
   {
    "duration": 5,
    "start_time": "2024-05-22T23:11:22.367Z"
   },
   {
    "duration": 40,
    "start_time": "2024-05-22T23:11:27.236Z"
   },
   {
    "duration": 6,
    "start_time": "2024-05-22T23:30:12.996Z"
   },
   {
    "duration": 25,
    "start_time": "2024-05-22T23:30:14.259Z"
   },
   {
    "duration": 41,
    "start_time": "2024-05-22T23:30:41.243Z"
   },
   {
    "duration": 7,
    "start_time": "2024-05-22T23:31:14.462Z"
   },
   {
    "duration": 410,
    "start_time": "2024-05-22T23:31:15.940Z"
   },
   {
    "duration": 8,
    "start_time": "2024-05-22T23:31:54.815Z"
   },
   {
    "duration": 214,
    "start_time": "2024-05-22T23:31:55.279Z"
   },
   {
    "duration": 8,
    "start_time": "2024-05-22T23:32:51.488Z"
   },
   {
    "duration": 125,
    "start_time": "2024-05-22T23:32:52.123Z"
   },
   {
    "duration": 7,
    "start_time": "2024-05-22T23:33:21.288Z"
   },
   {
    "duration": 111,
    "start_time": "2024-05-22T23:33:21.765Z"
   },
   {
    "duration": 7,
    "start_time": "2024-05-22T23:35:00.616Z"
   },
   {
    "duration": 95,
    "start_time": "2024-05-22T23:35:01.422Z"
   },
   {
    "duration": 8,
    "start_time": "2024-05-22T23:35:42.978Z"
   },
   {
    "duration": 86,
    "start_time": "2024-05-22T23:35:43.627Z"
   },
   {
    "duration": 5,
    "start_time": "2024-05-22T23:37:27.878Z"
   },
   {
    "duration": 27,
    "start_time": "2024-05-22T23:37:31.448Z"
   },
   {
    "duration": 7,
    "start_time": "2024-05-22T23:38:14.729Z"
   },
   {
    "duration": 38,
    "start_time": "2024-05-22T23:38:15.427Z"
   },
   {
    "duration": 5003,
    "start_time": "2024-05-23T08:55:48.286Z"
   },
   {
    "duration": 6839,
    "start_time": "2024-05-23T08:55:53.293Z"
   },
   {
    "duration": 19,
    "start_time": "2024-05-23T08:56:00.134Z"
   },
   {
    "duration": 22,
    "start_time": "2024-05-23T08:56:00.158Z"
   },
   {
    "duration": 89,
    "start_time": "2024-05-23T08:56:00.183Z"
   },
   {
    "duration": 290,
    "start_time": "2024-05-23T08:56:00.274Z"
   },
   {
    "duration": 8,
    "start_time": "2024-05-23T08:56:00.567Z"
   },
   {
    "duration": 7,
    "start_time": "2024-05-23T08:56:00.578Z"
   },
   {
    "duration": 52,
    "start_time": "2024-05-23T08:56:00.587Z"
   },
   {
    "duration": 12,
    "start_time": "2024-05-23T08:56:00.644Z"
   },
   {
    "duration": 19,
    "start_time": "2024-05-23T08:56:00.659Z"
   },
   {
    "duration": 89,
    "start_time": "2024-05-23T08:56:00.681Z"
   },
   {
    "duration": 232,
    "start_time": "2024-05-23T08:56:00.774Z"
   },
   {
    "duration": 25,
    "start_time": "2024-05-23T08:56:01.009Z"
   },
   {
    "duration": 8,
    "start_time": "2024-05-23T08:56:01.037Z"
   },
   {
    "duration": 6,
    "start_time": "2024-05-23T08:56:01.048Z"
   },
   {
    "duration": 8,
    "start_time": "2024-05-23T08:56:01.057Z"
   },
   {
    "duration": 12,
    "start_time": "2024-05-23T08:56:01.068Z"
   },
   {
    "duration": 67,
    "start_time": "2024-05-23T08:56:01.084Z"
   },
   {
    "duration": 82,
    "start_time": "2024-05-23T08:56:01.154Z"
   },
   {
    "duration": 301,
    "start_time": "2024-05-23T08:56:01.239Z"
   },
   {
    "duration": 9,
    "start_time": "2024-05-23T08:56:01.544Z"
   },
   {
    "duration": 7,
    "start_time": "2024-05-23T08:56:01.556Z"
   },
   {
    "duration": 7,
    "start_time": "2024-05-23T08:56:01.566Z"
   },
   {
    "duration": 10,
    "start_time": "2024-05-23T08:56:01.577Z"
   },
   {
    "duration": 6,
    "start_time": "2024-05-23T08:56:01.637Z"
   },
   {
    "duration": 6,
    "start_time": "2024-05-23T08:56:01.647Z"
   },
   {
    "duration": 6,
    "start_time": "2024-05-23T08:56:01.659Z"
   },
   {
    "duration": 11,
    "start_time": "2024-05-23T08:56:01.668Z"
   },
   {
    "duration": 85,
    "start_time": "2024-05-23T08:56:01.682Z"
   },
   {
    "duration": 4,
    "start_time": "2024-05-23T08:56:01.770Z"
   },
   {
    "duration": 27,
    "start_time": "2024-05-23T08:56:01.778Z"
   },
   {
    "duration": 26,
    "start_time": "2024-05-23T08:56:01.833Z"
   },
   {
    "duration": 6,
    "start_time": "2024-05-23T08:56:04.178Z"
   },
   {
    "duration": 3,
    "start_time": "2024-05-23T08:56:18.876Z"
   },
   {
    "duration": 5,
    "start_time": "2024-05-23T08:56:19.249Z"
   },
   {
    "duration": 19,
    "start_time": "2024-05-23T08:56:26.917Z"
   },
   {
    "duration": 6,
    "start_time": "2024-05-23T09:03:08.504Z"
   },
   {
    "duration": 493,
    "start_time": "2024-05-23T09:03:09.268Z"
   },
   {
    "duration": 10,
    "start_time": "2024-05-23T09:03:26.314Z"
   },
   {
    "duration": 39,
    "start_time": "2024-05-23T09:03:28.414Z"
   },
   {
    "duration": 6,
    "start_time": "2024-05-23T09:03:40.845Z"
   },
   {
    "duration": 40,
    "start_time": "2024-05-23T09:03:41.274Z"
   },
   {
    "duration": 10,
    "start_time": "2024-05-23T09:06:51.797Z"
   },
   {
    "duration": 34,
    "start_time": "2024-05-23T09:06:52.714Z"
   },
   {
    "duration": 7,
    "start_time": "2024-05-23T09:07:57.201Z"
   },
   {
    "duration": 38,
    "start_time": "2024-05-23T09:07:58.546Z"
   },
   {
    "duration": 5014,
    "start_time": "2024-05-23T21:48:06.702Z"
   },
   {
    "duration": 2905,
    "start_time": "2024-05-23T21:48:11.719Z"
   },
   {
    "duration": 22,
    "start_time": "2024-05-23T21:48:14.627Z"
   },
   {
    "duration": 21,
    "start_time": "2024-05-23T21:48:14.653Z"
   },
   {
    "duration": 59,
    "start_time": "2024-05-23T21:48:19.169Z"
   },
   {
    "duration": 278,
    "start_time": "2024-05-23T21:48:19.465Z"
   },
   {
    "duration": 7,
    "start_time": "2024-05-23T21:48:19.747Z"
   },
   {
    "duration": 7,
    "start_time": "2024-05-23T21:48:19.757Z"
   },
   {
    "duration": 19,
    "start_time": "2024-05-23T21:48:19.859Z"
   },
   {
    "duration": 13,
    "start_time": "2024-05-23T21:48:20.133Z"
   },
   {
    "duration": 18,
    "start_time": "2024-05-23T21:48:20.274Z"
   },
   {
    "duration": 53,
    "start_time": "2024-05-23T21:48:20.427Z"
   },
   {
    "duration": 212,
    "start_time": "2024-05-23T21:48:20.757Z"
   },
   {
    "duration": 6,
    "start_time": "2024-05-23T21:48:21.249Z"
   },
   {
    "duration": 7,
    "start_time": "2024-05-23T21:48:21.281Z"
   },
   {
    "duration": 7,
    "start_time": "2024-05-23T21:48:21.315Z"
   },
   {
    "duration": 9,
    "start_time": "2024-05-23T21:48:21.349Z"
   },
   {
    "duration": 12,
    "start_time": "2024-05-23T21:48:21.417Z"
   },
   {
    "duration": 17,
    "start_time": "2024-05-23T21:48:21.455Z"
   },
   {
    "duration": 57,
    "start_time": "2024-05-23T21:48:21.483Z"
   },
   {
    "duration": 279,
    "start_time": "2024-05-23T21:48:21.548Z"
   },
   {
    "duration": 7,
    "start_time": "2024-05-23T21:48:21.836Z"
   },
   {
    "duration": 7,
    "start_time": "2024-05-23T21:48:21.846Z"
   },
   {
    "duration": 7,
    "start_time": "2024-05-23T21:48:21.857Z"
   },
   {
    "duration": 9,
    "start_time": "2024-05-23T21:48:22.162Z"
   },
   {
    "duration": 5,
    "start_time": "2024-05-23T21:48:22.357Z"
   },
   {
    "duration": 6,
    "start_time": "2024-05-23T21:48:22.537Z"
   },
   {
    "duration": 5,
    "start_time": "2024-05-23T21:48:22.710Z"
   },
   {
    "duration": 14,
    "start_time": "2024-05-23T21:48:23.602Z"
   },
   {
    "duration": 43,
    "start_time": "2024-05-23T21:48:23.627Z"
   },
   {
    "duration": 5,
    "start_time": "2024-05-23T21:48:23.698Z"
   },
   {
    "duration": 40,
    "start_time": "2024-05-23T21:48:23.732Z"
   },
   {
    "duration": 101,
    "start_time": "2024-05-23T21:48:23.776Z"
   },
   {
    "duration": 7,
    "start_time": "2024-05-23T21:48:28.703Z"
   },
   {
    "duration": 4,
    "start_time": "2024-05-23T21:48:33.645Z"
   },
   {
    "duration": 4,
    "start_time": "2024-05-23T21:48:33.817Z"
   },
   {
    "duration": 18,
    "start_time": "2024-05-23T21:48:36.396Z"
   },
   {
    "duration": 7,
    "start_time": "2024-05-23T21:49:01.619Z"
   },
   {
    "duration": 428,
    "start_time": "2024-05-23T21:49:06.079Z"
   },
   {
    "duration": 6,
    "start_time": "2024-05-23T22:34:19.925Z"
   },
   {
    "duration": 24,
    "start_time": "2024-05-23T22:34:31.989Z"
   },
   {
    "duration": 31,
    "start_time": "2024-05-23T22:34:40.172Z"
   },
   {
    "duration": 5,
    "start_time": "2024-05-23T22:34:46.706Z"
   },
   {
    "duration": 27,
    "start_time": "2024-05-23T22:35:05.600Z"
   },
   {
    "duration": 22,
    "start_time": "2024-05-23T22:35:10.847Z"
   },
   {
    "duration": 6,
    "start_time": "2024-05-23T22:35:17.253Z"
   },
   {
    "duration": 7,
    "start_time": "2024-05-23T22:36:05.554Z"
   },
   {
    "duration": 6,
    "start_time": "2024-05-23T22:37:25.714Z"
   },
   {
    "duration": 1052,
    "start_time": "2024-05-23T22:37:26.403Z"
   },
   {
    "duration": 9,
    "start_time": "2024-05-23T22:38:52.337Z"
   },
   {
    "duration": 127,
    "start_time": "2024-05-23T22:38:52.819Z"
   },
   {
    "duration": 6,
    "start_time": "2024-05-23T22:44:54.897Z"
   },
   {
    "duration": 7,
    "start_time": "2024-05-23T22:46:55.755Z"
   },
   {
    "duration": 117,
    "start_time": "2024-05-23T22:46:58.517Z"
   },
   {
    "duration": 6,
    "start_time": "2024-05-23T22:48:21.044Z"
   },
   {
    "duration": 42,
    "start_time": "2024-05-23T22:48:22.008Z"
   },
   {
    "duration": 4,
    "start_time": "2024-05-23T22:48:46.100Z"
   },
   {
    "duration": 35,
    "start_time": "2024-05-23T22:49:05.508Z"
   },
   {
    "duration": 7,
    "start_time": "2024-05-23T22:49:45.788Z"
   },
   {
    "duration": 937,
    "start_time": "2024-05-23T22:49:46.403Z"
   },
   {
    "duration": 895,
    "start_time": "2024-05-23T22:51:08.997Z"
   },
   {
    "duration": 873,
    "start_time": "2024-05-23T22:51:20.264Z"
   },
   {
    "duration": 8,
    "start_time": "2024-05-23T22:53:57.818Z"
   },
   {
    "duration": 11,
    "start_time": "2024-05-23T22:54:48.157Z"
   },
   {
    "duration": 922,
    "start_time": "2024-05-23T22:55:06.245Z"
   },
   {
    "duration": 883,
    "start_time": "2024-05-23T22:55:14.434Z"
   },
   {
    "duration": 888,
    "start_time": "2024-05-23T23:03:25.174Z"
   },
   {
    "duration": 1014,
    "start_time": "2024-05-23T23:04:02.000Z"
   },
   {
    "duration": 9,
    "start_time": "2024-05-23T23:11:37.728Z"
   },
   {
    "duration": 906,
    "start_time": "2024-05-23T23:11:38.383Z"
   },
   {
    "duration": 7,
    "start_time": "2024-05-23T23:11:54.423Z"
   },
   {
    "duration": 925,
    "start_time": "2024-05-23T23:11:55.149Z"
   },
   {
    "duration": 8,
    "start_time": "2024-05-23T23:12:26.538Z"
   },
   {
    "duration": 1308,
    "start_time": "2024-05-23T23:12:27.261Z"
   },
   {
    "duration": 930,
    "start_time": "2024-05-23T23:12:51.204Z"
   },
   {
    "duration": 892,
    "start_time": "2024-05-23T23:13:01.998Z"
   },
   {
    "duration": 8,
    "start_time": "2024-05-23T23:15:19.837Z"
   },
   {
    "duration": 926,
    "start_time": "2024-05-23T23:15:21.069Z"
   },
   {
    "duration": 975,
    "start_time": "2024-05-23T23:15:26.653Z"
   },
   {
    "duration": 879,
    "start_time": "2024-05-23T23:15:32.570Z"
   },
   {
    "duration": 8,
    "start_time": "2024-05-23T23:15:52.845Z"
   },
   {
    "duration": 882,
    "start_time": "2024-05-23T23:16:02.792Z"
   },
   {
    "duration": 899,
    "start_time": "2024-05-23T23:16:12.530Z"
   },
   {
    "duration": 893,
    "start_time": "2024-05-23T23:16:19.105Z"
   },
   {
    "duration": 8,
    "start_time": "2024-05-23T23:17:14.544Z"
   },
   {
    "duration": 7,
    "start_time": "2024-05-23T23:19:12.533Z"
   },
   {
    "duration": 24,
    "start_time": "2024-05-23T23:19:12.929Z"
   },
   {
    "duration": 391,
    "start_time": "2024-05-23T23:19:24.799Z"
   },
   {
    "duration": 8,
    "start_time": "2024-05-23T23:20:10.701Z"
   },
   {
    "duration": 908,
    "start_time": "2024-05-23T23:20:11.685Z"
   },
   {
    "duration": 920,
    "start_time": "2024-05-23T23:20:12.597Z"
   },
   {
    "duration": 916,
    "start_time": "2024-05-23T23:20:13.520Z"
   },
   {
    "duration": 8,
    "start_time": "2024-05-23T23:29:59.107Z"
   },
   {
    "duration": 874,
    "start_time": "2024-05-23T23:30:00.110Z"
   },
   {
    "duration": 8,
    "start_time": "2024-05-23T23:31:57.911Z"
   },
   {
    "duration": 882,
    "start_time": "2024-05-23T23:31:59.516Z"
   },
   {
    "duration": 10,
    "start_time": "2024-05-23T23:32:55.067Z"
   },
   {
    "duration": 10,
    "start_time": "2024-05-23T23:34:37.631Z"
   },
   {
    "duration": 893,
    "start_time": "2024-05-23T23:34:38.254Z"
   },
   {
    "duration": 888,
    "start_time": "2024-05-23T23:37:39.025Z"
   },
   {
    "duration": 9,
    "start_time": "2024-05-23T23:38:03.088Z"
   },
   {
    "duration": 897,
    "start_time": "2024-05-23T23:38:03.605Z"
   }
  ],
  "kernelspec": {
   "display_name": "Python 3 (ipykernel)",
   "language": "python",
   "name": "python3"
  },
  "language_info": {
   "codemirror_mode": {
    "name": "ipython",
    "version": 3
   },
   "file_extension": ".py",
   "mimetype": "text/x-python",
   "name": "python",
   "nbconvert_exporter": "python",
   "pygments_lexer": "ipython3",
   "version": "3.11.5"
  },
  "toc": {
   "base_numbering": 1,
   "nav_menu": {},
   "number_sections": true,
   "sideBar": true,
   "skip_h1_title": false,
   "title_cell": "Table of Contents",
   "title_sidebar": "Contents",
   "toc_cell": false,
   "toc_position": {},
   "toc_section_display": true,
   "toc_window_display": false
  }
 },
 "nbformat": 4,
 "nbformat_minor": 2
}
